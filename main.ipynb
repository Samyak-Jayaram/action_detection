{
 "cells": [
  {
   "cell_type": "code",
   "execution_count": 2,
   "metadata": {},
   "outputs": [
    {
     "name": "stdout",
     "output_type": "stream",
     "text": [
      "d:\\1_DSCE\\Major_project\\yolo\n"
     ]
    }
   ],
   "source": [
    "import os\n",
    "HOME = os.getcwd()\n",
    "\n",
    "print(HOME)"
   ]
  },
  {
   "cell_type": "code",
   "execution_count": 3,
   "metadata": {},
   "outputs": [],
   "source": [
    "IMAGE_DIR_PATH = f\"{HOME}/images\""
   ]
  },
  {
   "cell_type": "code",
   "execution_count": 5,
   "metadata": {},
   "outputs": [],
   "source": [
    "DATASET_DIR_PATH = f\"{HOME}/dataset\"\n",
    "DATA_YAML_PATH = f\"{HOME}/dataset/data.yaml\""
   ]
  },
  {
   "cell_type": "code",
   "execution_count": 7,
   "metadata": {},
   "outputs": [
    {
     "name": "stdout",
     "output_type": "stream",
     "text": [
      "New https://pypi.org/project/ultralytics/8.3.1 available  Update with 'pip install -U ultralytics'\n",
      "Ultralytics YOLOv8.2.103  Python-3.11.5 torch-2.4.1+cu124 CUDA:0 (NVIDIA GeForce GTX 1650, 4096MiB)\n",
      "\u001b[34m\u001b[1mengine\\trainer: \u001b[0mtask=detect, mode=train, model=yolov8n.pt, data=d:\\1_DSCE\\Major_project\\yolo/dataset/data.yaml, epochs=50, time=None, patience=100, batch=16, imgsz=640, save=True, save_period=-1, cache=False, device=[0], workers=8, project=None, name=train, exist_ok=False, pretrained=True, optimizer=auto, verbose=True, seed=0, deterministic=True, single_cls=False, rect=False, cos_lr=False, close_mosaic=10, resume=False, amp=True, fraction=1.0, profile=False, freeze=None, multi_scale=False, overlap_mask=True, mask_ratio=4, dropout=0.0, val=True, split=val, save_json=False, save_hybrid=False, conf=None, iou=0.7, max_det=300, half=False, dnn=False, plots=True, source=None, vid_stride=1, stream_buffer=False, visualize=False, augment=False, agnostic_nms=False, classes=None, retina_masks=False, embed=None, show=False, save_frames=False, save_txt=False, save_conf=False, save_crop=False, show_labels=True, show_conf=True, show_boxes=True, line_width=None, format=torchscript, keras=False, optimize=False, int8=False, dynamic=False, simplify=True, opset=None, workspace=4, nms=False, lr0=0.01, lrf=0.01, momentum=0.937, weight_decay=0.0005, warmup_epochs=3.0, warmup_momentum=0.8, warmup_bias_lr=0.1, box=7.5, cls=0.5, dfl=1.5, pose=12.0, kobj=1.0, label_smoothing=0.0, nbs=64, hsv_h=0.015, hsv_s=0.7, hsv_v=0.4, degrees=0.0, translate=0.1, scale=0.5, shear=0.0, perspective=0.0, flipud=0.0, fliplr=0.5, bgr=0.0, mosaic=1.0, mixup=0.0, copy_paste=0.0, auto_augment=randaugment, erasing=0.4, crop_fraction=1.0, cfg=None, tracker=botsort.yaml, save_dir=runs\\detect\\train\n",
      "Overriding model.yaml nc=80 with nc=7\n",
      "\n",
      "                   from  n    params  module                                       arguments                     \n",
      "  0                  -1  1       464  ultralytics.nn.modules.conv.Conv             [3, 16, 3, 2]                 \n",
      "  1                  -1  1      4672  ultralytics.nn.modules.conv.Conv             [16, 32, 3, 2]                \n",
      "  2                  -1  1      7360  ultralytics.nn.modules.block.C2f             [32, 32, 1, True]             \n",
      "  3                  -1  1     18560  ultralytics.nn.modules.conv.Conv             [32, 64, 3, 2]                \n",
      "  4                  -1  2     49664  ultralytics.nn.modules.block.C2f             [64, 64, 2, True]             \n",
      "  5                  -1  1     73984  ultralytics.nn.modules.conv.Conv             [64, 128, 3, 2]               \n",
      "  6                  -1  2    197632  ultralytics.nn.modules.block.C2f             [128, 128, 2, True]           \n",
      "  7                  -1  1    295424  ultralytics.nn.modules.conv.Conv             [128, 256, 3, 2]              \n",
      "  8                  -1  1    460288  ultralytics.nn.modules.block.C2f             [256, 256, 1, True]           \n",
      "  9                  -1  1    164608  ultralytics.nn.modules.block.SPPF            [256, 256, 5]                 \n",
      " 10                  -1  1         0  torch.nn.modules.upsampling.Upsample         [None, 2, 'nearest']          \n",
      " 11             [-1, 6]  1         0  ultralytics.nn.modules.conv.Concat           [1]                           \n",
      " 12                  -1  1    148224  ultralytics.nn.modules.block.C2f             [384, 128, 1]                 \n",
      " 13                  -1  1         0  torch.nn.modules.upsampling.Upsample         [None, 2, 'nearest']          \n",
      " 14             [-1, 4]  1         0  ultralytics.nn.modules.conv.Concat           [1]                           \n",
      " 15                  -1  1     37248  ultralytics.nn.modules.block.C2f             [192, 64, 1]                  \n",
      " 16                  -1  1     36992  ultralytics.nn.modules.conv.Conv             [64, 64, 3, 2]                \n",
      " 17            [-1, 12]  1         0  ultralytics.nn.modules.conv.Concat           [1]                           \n",
      " 18                  -1  1    123648  ultralytics.nn.modules.block.C2f             [192, 128, 1]                 \n",
      " 19                  -1  1    147712  ultralytics.nn.modules.conv.Conv             [128, 128, 3, 2]              \n",
      " 20             [-1, 9]  1         0  ultralytics.nn.modules.conv.Concat           [1]                           \n",
      " 21                  -1  1    493056  ultralytics.nn.modules.block.C2f             [384, 256, 1]                 \n",
      " 22        [15, 18, 21]  1    752677  ultralytics.nn.modules.head.Detect           [7, [64, 128, 256]]           \n",
      "Model summary: 225 layers, 3,012,213 parameters, 3,012,197 gradients, 8.2 GFLOPs\n",
      "\n",
      "Transferred 319/355 items from pretrained weights\n",
      "Freezing layer 'model.22.dfl.conv.weight'\n",
      "\u001b[34m\u001b[1mAMP: \u001b[0mrunning Automatic Mixed Precision (AMP) checks with YOLOv8n...\n",
      "\u001b[34m\u001b[1mAMP: \u001b[0mchecks passed \n"
     ]
    },
    {
     "name": "stderr",
     "output_type": "stream",
     "text": [
      "\u001b[34m\u001b[1mtrain: \u001b[0mScanning D:\\1_DSCE\\Major_project\\yolo\\dataset\\train\\labels... 401 images, 16 backgrounds, 0 corrupt: 100%|██████████| 401/401 [00:10<00:00, 36.48it/s]\n"
     ]
    },
    {
     "name": "stdout",
     "output_type": "stream",
     "text": [
      "\u001b[34m\u001b[1mtrain: \u001b[0mNew cache created: D:\\1_DSCE\\Major_project\\yolo\\dataset\\train\\labels.cache\n",
      "\u001b[34m\u001b[1malbumentations: \u001b[0mBlur(p=0.01, blur_limit=(3, 7)), MedianBlur(p=0.01, blur_limit=(3, 7)), ToGray(p=0.01), CLAHE(p=0.01, clip_limit=(1, 4.0), tile_grid_size=(8, 8))\n"
     ]
    },
    {
     "name": "stderr",
     "output_type": "stream",
     "text": [
      "\u001b[34m\u001b[1mval: \u001b[0mScanning D:\\1_DSCE\\Major_project\\yolo\\dataset\\valid\\labels... 101 images, 6 backgrounds, 0 corrupt: 100%|██████████| 101/101 [00:15<00:00,  6.51it/s]"
     ]
    },
    {
     "name": "stdout",
     "output_type": "stream",
     "text": [
      "\u001b[34m\u001b[1mval: \u001b[0mNew cache created: D:\\1_DSCE\\Major_project\\yolo\\dataset\\valid\\labels.cache\n"
     ]
    },
    {
     "name": "stderr",
     "output_type": "stream",
     "text": [
      "\n"
     ]
    },
    {
     "name": "stdout",
     "output_type": "stream",
     "text": [
      "Plotting labels to runs\\detect\\train\\labels.jpg... \n",
      "\u001b[34m\u001b[1moptimizer:\u001b[0m 'optimizer=auto' found, ignoring 'lr0=0.01' and 'momentum=0.937' and determining best 'optimizer', 'lr0' and 'momentum' automatically... \n",
      "\u001b[34m\u001b[1moptimizer:\u001b[0m AdamW(lr=0.000909, momentum=0.9) with parameter groups 57 weight(decay=0.0), 64 weight(decay=0.0005), 63 bias(decay=0.0)\n",
      "Image sizes 640 train, 640 val\n",
      "Using 8 dataloader workers\n",
      "Logging results to \u001b[1mruns\\detect\\train\u001b[0m\n",
      "Starting training for 50 epochs...\n",
      "\n",
      "      Epoch    GPU_mem   box_loss   cls_loss   dfl_loss  Instances       Size\n"
     ]
    },
    {
     "name": "stderr",
     "output_type": "stream",
     "text": [
      "       1/50      2.21G        nan        nan        nan          6        640: 100%|██████████| 26/26 [01:36<00:00,  3.70s/it]\n",
      "                 Class     Images  Instances      Box(P          R      mAP50  mAP50-95): 100%|██████████| 4/4 [00:08<00:00,  2.22s/it]"
     ]
    },
    {
     "name": "stdout",
     "output_type": "stream",
     "text": [
      "                   all        101        309          0          0          0          0\n"
     ]
    },
    {
     "name": "stderr",
     "output_type": "stream",
     "text": [
      "\n"
     ]
    },
    {
     "name": "stdout",
     "output_type": "stream",
     "text": [
      "\n",
      "      Epoch    GPU_mem   box_loss   cls_loss   dfl_loss  Instances       Size\n"
     ]
    },
    {
     "name": "stderr",
     "output_type": "stream",
     "text": [
      "       2/50      2.21G        nan        nan        nan          5        640: 100%|██████████| 26/26 [00:27<00:00,  1.05s/it]\n",
      "                 Class     Images  Instances      Box(P          R      mAP50  mAP50-95): 100%|██████████| 4/4 [00:01<00:00,  3.08it/s]"
     ]
    },
    {
     "name": "stdout",
     "output_type": "stream",
     "text": [
      "                   all        101        309          0          0          0          0\n"
     ]
    },
    {
     "name": "stderr",
     "output_type": "stream",
     "text": [
      "\n"
     ]
    },
    {
     "name": "stdout",
     "output_type": "stream",
     "text": [
      "\n",
      "      Epoch    GPU_mem   box_loss   cls_loss   dfl_loss  Instances       Size\n"
     ]
    },
    {
     "name": "stderr",
     "output_type": "stream",
     "text": [
      "       3/50      2.21G        nan        nan        nan         14        640: 100%|██████████| 26/26 [00:50<00:00,  1.95s/it]\n",
      "                 Class     Images  Instances      Box(P          R      mAP50  mAP50-95):  25%|██▌       | 1/4 [00:00<00:01,  2.50it/s]"
     ]
    },
    {
     "name": "stdout",
     "output_type": "stream",
     "text": [
      "WARNING  NMS time limit 3.600s exceeded\n"
     ]
    },
    {
     "name": "stderr",
     "output_type": "stream",
     "text": [
      "                 Class     Images  Instances      Box(P          R      mAP50  mAP50-95): 100%|██████████| 4/4 [00:18<00:00,  4.53s/it]\n"
     ]
    },
    {
     "name": "stdout",
     "output_type": "stream",
     "text": [
      "                   all        101        309          0          0          0          0\n",
      "\n",
      "      Epoch    GPU_mem   box_loss   cls_loss   dfl_loss  Instances       Size\n"
     ]
    },
    {
     "name": "stderr",
     "output_type": "stream",
     "text": [
      "       4/50       2.2G        nan        nan        nan         15        640: 100%|██████████| 26/26 [00:28<00:00,  1.11s/it]\n",
      "                 Class     Images  Instances      Box(P          R      mAP50  mAP50-95): 100%|██████████| 4/4 [00:05<00:00,  1.40s/it]\n"
     ]
    },
    {
     "name": "stdout",
     "output_type": "stream",
     "text": [
      "                   all        101        309     0.0263     0.0132      0.019    0.00727\n",
      "\n",
      "      Epoch    GPU_mem   box_loss   cls_loss   dfl_loss  Instances       Size\n"
     ]
    },
    {
     "name": "stderr",
     "output_type": "stream",
     "text": [
      "       5/50       2.2G        nan        nan        nan          2        640: 100%|██████████| 26/26 [00:43<00:00,  1.66s/it]\n",
      "                 Class     Images  Instances      Box(P          R      mAP50  mAP50-95): 100%|██████████| 4/4 [00:03<00:00,  1.15it/s]"
     ]
    },
    {
     "name": "stdout",
     "output_type": "stream",
     "text": [
      "                   all        101        309     0.0483      0.138     0.0335     0.0171\n"
     ]
    },
    {
     "name": "stderr",
     "output_type": "stream",
     "text": [
      "\n"
     ]
    },
    {
     "name": "stdout",
     "output_type": "stream",
     "text": [
      "\n",
      "      Epoch    GPU_mem   box_loss   cls_loss   dfl_loss  Instances       Size\n"
     ]
    },
    {
     "name": "stderr",
     "output_type": "stream",
     "text": [
      "       6/50      2.22G        nan        nan        nan          4        640: 100%|██████████| 26/26 [00:45<00:00,  1.76s/it]\n",
      "                 Class     Images  Instances      Box(P          R      mAP50  mAP50-95): 100%|██████████| 4/4 [00:01<00:00,  2.77it/s]"
     ]
    },
    {
     "name": "stdout",
     "output_type": "stream",
     "text": [
      "                   all        101        309     0.0486      0.288     0.0412     0.0218\n"
     ]
    },
    {
     "name": "stderr",
     "output_type": "stream",
     "text": [
      "\n"
     ]
    },
    {
     "name": "stdout",
     "output_type": "stream",
     "text": [
      "\n",
      "      Epoch    GPU_mem   box_loss   cls_loss   dfl_loss  Instances       Size\n"
     ]
    },
    {
     "name": "stderr",
     "output_type": "stream",
     "text": [
      "       7/50       2.2G        nan        nan        nan          5        640: 100%|██████████| 26/26 [00:50<00:00,  1.93s/it]\n",
      "                 Class     Images  Instances      Box(P          R      mAP50  mAP50-95): 100%|██████████| 4/4 [00:02<00:00,  1.51it/s]"
     ]
    },
    {
     "name": "stdout",
     "output_type": "stream",
     "text": [
      "                   all        101        309     0.0421      0.353     0.0403     0.0214\n"
     ]
    },
    {
     "name": "stderr",
     "output_type": "stream",
     "text": [
      "\n"
     ]
    },
    {
     "name": "stdout",
     "output_type": "stream",
     "text": [
      "\n",
      "      Epoch    GPU_mem   box_loss   cls_loss   dfl_loss  Instances       Size\n"
     ]
    },
    {
     "name": "stderr",
     "output_type": "stream",
     "text": [
      "       8/50       2.2G        nan        nan        nan          7        640: 100%|██████████| 26/26 [00:49<00:00,  1.91s/it]\n",
      "                 Class     Images  Instances      Box(P          R      mAP50  mAP50-95): 100%|██████████| 4/4 [00:01<00:00,  2.73it/s]"
     ]
    },
    {
     "name": "stdout",
     "output_type": "stream",
     "text": [
      "                   all        101        309     0.0451      0.404     0.0424     0.0217\n"
     ]
    },
    {
     "name": "stderr",
     "output_type": "stream",
     "text": [
      "\n"
     ]
    },
    {
     "name": "stdout",
     "output_type": "stream",
     "text": [
      "\n",
      "      Epoch    GPU_mem   box_loss   cls_loss   dfl_loss  Instances       Size\n"
     ]
    },
    {
     "name": "stderr",
     "output_type": "stream",
     "text": [
      "       9/50       2.2G        nan        nan        nan          1        640: 100%|██████████| 26/26 [00:45<00:00,  1.73s/it]\n",
      "                 Class     Images  Instances      Box(P          R      mAP50  mAP50-95): 100%|██████████| 4/4 [00:01<00:00,  2.77it/s]"
     ]
    },
    {
     "name": "stdout",
     "output_type": "stream",
     "text": [
      "                   all        101        309     0.0439      0.421      0.044     0.0226\n"
     ]
    },
    {
     "name": "stderr",
     "output_type": "stream",
     "text": [
      "\n"
     ]
    },
    {
     "name": "stdout",
     "output_type": "stream",
     "text": [
      "\n",
      "      Epoch    GPU_mem   box_loss   cls_loss   dfl_loss  Instances       Size\n"
     ]
    },
    {
     "name": "stderr",
     "output_type": "stream",
     "text": [
      "      10/50       2.2G        nan        nan        nan          5        640: 100%|██████████| 26/26 [00:51<00:00,  1.98s/it]\n",
      "                 Class     Images  Instances      Box(P          R      mAP50  mAP50-95): 100%|██████████| 4/4 [00:01<00:00,  2.73it/s]"
     ]
    },
    {
     "name": "stdout",
     "output_type": "stream",
     "text": [
      "                   all        101        309     0.0435      0.426     0.0423     0.0216\n"
     ]
    },
    {
     "name": "stderr",
     "output_type": "stream",
     "text": [
      "\n"
     ]
    },
    {
     "name": "stdout",
     "output_type": "stream",
     "text": [
      "\n",
      "      Epoch    GPU_mem   box_loss   cls_loss   dfl_loss  Instances       Size\n"
     ]
    },
    {
     "name": "stderr",
     "output_type": "stream",
     "text": [
      "      11/50      2.19G        nan        nan        nan          4        640: 100%|██████████| 26/26 [00:48<00:00,  1.88s/it]\n",
      "                 Class     Images  Instances      Box(P          R      mAP50  mAP50-95): 100%|██████████| 4/4 [00:01<00:00,  2.71it/s]"
     ]
    },
    {
     "name": "stdout",
     "output_type": "stream",
     "text": [
      "                   all        101        309     0.0429       0.43     0.0427      0.022\n"
     ]
    },
    {
     "name": "stderr",
     "output_type": "stream",
     "text": [
      "\n"
     ]
    },
    {
     "name": "stdout",
     "output_type": "stream",
     "text": [
      "\n",
      "      Epoch    GPU_mem   box_loss   cls_loss   dfl_loss  Instances       Size\n"
     ]
    },
    {
     "name": "stderr",
     "output_type": "stream",
     "text": [
      "      12/50      2.23G        nan        nan        nan          5        640: 100%|██████████| 26/26 [00:46<00:00,  1.81s/it]\n",
      "                 Class     Images  Instances      Box(P          R      mAP50  mAP50-95): 100%|██████████| 4/4 [00:01<00:00,  2.72it/s]"
     ]
    },
    {
     "name": "stdout",
     "output_type": "stream",
     "text": [
      "                   all        101        309     0.0423      0.444     0.0421     0.0211\n"
     ]
    },
    {
     "name": "stderr",
     "output_type": "stream",
     "text": [
      "\n"
     ]
    },
    {
     "name": "stdout",
     "output_type": "stream",
     "text": [
      "\n",
      "      Epoch    GPU_mem   box_loss   cls_loss   dfl_loss  Instances       Size\n"
     ]
    },
    {
     "name": "stderr",
     "output_type": "stream",
     "text": [
      "      13/50      2.19G        nan        nan        nan          7        640: 100%|██████████| 26/26 [00:50<00:00,  1.94s/it]\n",
      "                 Class     Images  Instances      Box(P          R      mAP50  mAP50-95): 100%|██████████| 4/4 [00:01<00:00,  2.75it/s]"
     ]
    },
    {
     "name": "stdout",
     "output_type": "stream",
     "text": [
      "                   all        101        309     0.0432      0.446     0.0429     0.0212\n"
     ]
    },
    {
     "name": "stderr",
     "output_type": "stream",
     "text": [
      "\n"
     ]
    },
    {
     "name": "stdout",
     "output_type": "stream",
     "text": [
      "\n",
      "      Epoch    GPU_mem   box_loss   cls_loss   dfl_loss  Instances       Size\n"
     ]
    },
    {
     "name": "stderr",
     "output_type": "stream",
     "text": [
      "      14/50       2.2G        nan        nan        nan          4        640: 100%|██████████| 26/26 [00:49<00:00,  1.91s/it]\n",
      "                 Class     Images  Instances      Box(P          R      mAP50  mAP50-95): 100%|██████████| 4/4 [00:01<00:00,  2.77it/s]"
     ]
    },
    {
     "name": "stdout",
     "output_type": "stream",
     "text": [
      "                   all        101        309     0.0422      0.431     0.0424     0.0216\n"
     ]
    },
    {
     "name": "stderr",
     "output_type": "stream",
     "text": [
      "\n"
     ]
    },
    {
     "name": "stdout",
     "output_type": "stream",
     "text": [
      "\n",
      "      Epoch    GPU_mem   box_loss   cls_loss   dfl_loss  Instances       Size\n"
     ]
    },
    {
     "name": "stderr",
     "output_type": "stream",
     "text": [
      "      15/50       2.2G        nan        nan        nan         10        640: 100%|██████████| 26/26 [00:49<00:00,  1.90s/it]\n",
      "                 Class     Images  Instances      Box(P          R      mAP50  mAP50-95): 100%|██████████| 4/4 [00:01<00:00,  2.77it/s]"
     ]
    },
    {
     "name": "stdout",
     "output_type": "stream",
     "text": [
      "                   all        101        309     0.0421      0.431     0.0414      0.021\n"
     ]
    },
    {
     "name": "stderr",
     "output_type": "stream",
     "text": [
      "\n"
     ]
    },
    {
     "name": "stdout",
     "output_type": "stream",
     "text": [
      "\n",
      "      Epoch    GPU_mem   box_loss   cls_loss   dfl_loss  Instances       Size\n"
     ]
    },
    {
     "name": "stderr",
     "output_type": "stream",
     "text": [
      "      16/50       2.2G        nan        nan        nan          3        640: 100%|██████████| 26/26 [00:39<00:00,  1.51s/it]\n",
      "                 Class     Images  Instances      Box(P          R      mAP50  mAP50-95): 100%|██████████| 4/4 [00:01<00:00,  2.79it/s]"
     ]
    },
    {
     "name": "stdout",
     "output_type": "stream",
     "text": [
      "                   all        101        309      0.044      0.441     0.0418     0.0213\n"
     ]
    },
    {
     "name": "stderr",
     "output_type": "stream",
     "text": [
      "\n"
     ]
    },
    {
     "name": "stdout",
     "output_type": "stream",
     "text": [
      "\n",
      "      Epoch    GPU_mem   box_loss   cls_loss   dfl_loss  Instances       Size\n"
     ]
    },
    {
     "name": "stderr",
     "output_type": "stream",
     "text": [
      "      17/50      2.21G        nan        nan        nan         16        640: 100%|██████████| 26/26 [00:56<00:00,  2.15s/it]\n",
      "                 Class     Images  Instances      Box(P          R      mAP50  mAP50-95): 100%|██████████| 4/4 [00:01<00:00,  2.72it/s]"
     ]
    },
    {
     "name": "stdout",
     "output_type": "stream",
     "text": [
      "                   all        101        309     0.0428      0.429     0.0415     0.0215\n"
     ]
    },
    {
     "name": "stderr",
     "output_type": "stream",
     "text": [
      "\n"
     ]
    },
    {
     "name": "stdout",
     "output_type": "stream",
     "text": [
      "\n",
      "      Epoch    GPU_mem   box_loss   cls_loss   dfl_loss  Instances       Size\n"
     ]
    },
    {
     "name": "stderr",
     "output_type": "stream",
     "text": [
      "      18/50       2.2G        nan        nan        nan          9        640: 100%|██████████| 26/26 [00:42<00:00,  1.65s/it]\n",
      "                 Class     Images  Instances      Box(P          R      mAP50  mAP50-95): 100%|██████████| 4/4 [00:01<00:00,  2.75it/s]"
     ]
    },
    {
     "name": "stdout",
     "output_type": "stream",
     "text": [
      "                   all        101        309     0.0429      0.426     0.0423     0.0219\n"
     ]
    },
    {
     "name": "stderr",
     "output_type": "stream",
     "text": [
      "\n"
     ]
    },
    {
     "name": "stdout",
     "output_type": "stream",
     "text": [
      "\n",
      "      Epoch    GPU_mem   box_loss   cls_loss   dfl_loss  Instances       Size\n"
     ]
    },
    {
     "name": "stderr",
     "output_type": "stream",
     "text": [
      "      19/50       2.2G        nan        nan        nan          1        640: 100%|██████████| 26/26 [00:50<00:00,  1.94s/it]\n",
      "                 Class     Images  Instances      Box(P          R      mAP50  mAP50-95): 100%|██████████| 4/4 [00:01<00:00,  2.77it/s]"
     ]
    },
    {
     "name": "stdout",
     "output_type": "stream",
     "text": [
      "                   all        101        309     0.0438      0.446     0.0428     0.0221\n"
     ]
    },
    {
     "name": "stderr",
     "output_type": "stream",
     "text": [
      "\n"
     ]
    },
    {
     "name": "stdout",
     "output_type": "stream",
     "text": [
      "\n",
      "      Epoch    GPU_mem   box_loss   cls_loss   dfl_loss  Instances       Size\n"
     ]
    },
    {
     "name": "stderr",
     "output_type": "stream",
     "text": [
      "      20/50       2.2G        nan        nan        nan          8        640: 100%|██████████| 26/26 [00:50<00:00,  1.96s/it]\n",
      "                 Class     Images  Instances      Box(P          R      mAP50  mAP50-95): 100%|██████████| 4/4 [00:01<00:00,  2.75it/s]"
     ]
    },
    {
     "name": "stdout",
     "output_type": "stream",
     "text": [
      "                   all        101        309     0.0431      0.424     0.0426     0.0219\n"
     ]
    },
    {
     "name": "stderr",
     "output_type": "stream",
     "text": [
      "\n"
     ]
    },
    {
     "name": "stdout",
     "output_type": "stream",
     "text": [
      "\n",
      "      Epoch    GPU_mem   box_loss   cls_loss   dfl_loss  Instances       Size\n"
     ]
    },
    {
     "name": "stderr",
     "output_type": "stream",
     "text": [
      "      21/50       2.2G        nan        nan        nan          7        640: 100%|██████████| 26/26 [00:35<00:00,  1.37s/it]\n",
      "                 Class     Images  Instances      Box(P          R      mAP50  mAP50-95): 100%|██████████| 4/4 [00:01<00:00,  2.78it/s]"
     ]
    },
    {
     "name": "stdout",
     "output_type": "stream",
     "text": [
      "                   all        101        309     0.0439      0.432     0.0443     0.0226\n"
     ]
    },
    {
     "name": "stderr",
     "output_type": "stream",
     "text": [
      "\n"
     ]
    },
    {
     "name": "stdout",
     "output_type": "stream",
     "text": [
      "\n",
      "      Epoch    GPU_mem   box_loss   cls_loss   dfl_loss  Instances       Size\n"
     ]
    },
    {
     "name": "stderr",
     "output_type": "stream",
     "text": [
      "      22/50      2.22G        nan        nan        nan          7        640: 100%|██████████| 26/26 [00:50<00:00,  1.96s/it]\n",
      "                 Class     Images  Instances      Box(P          R      mAP50  mAP50-95): 100%|██████████| 4/4 [00:01<00:00,  2.76it/s]"
     ]
    },
    {
     "name": "stdout",
     "output_type": "stream",
     "text": [
      "                   all        101        309     0.0424      0.426     0.0443     0.0226\n"
     ]
    },
    {
     "name": "stderr",
     "output_type": "stream",
     "text": [
      "\n"
     ]
    },
    {
     "name": "stdout",
     "output_type": "stream",
     "text": [
      "\n",
      "      Epoch    GPU_mem   box_loss   cls_loss   dfl_loss  Instances       Size\n"
     ]
    },
    {
     "name": "stderr",
     "output_type": "stream",
     "text": [
      "      23/50       2.2G        nan        nan        nan         11        640: 100%|██████████| 26/26 [00:47<00:00,  1.83s/it]\n",
      "                 Class     Images  Instances      Box(P          R      mAP50  mAP50-95): 100%|██████████| 4/4 [00:01<00:00,  2.74it/s]"
     ]
    },
    {
     "name": "stdout",
     "output_type": "stream",
     "text": [
      "                   all        101        309     0.0427      0.426     0.0434     0.0225\n"
     ]
    },
    {
     "name": "stderr",
     "output_type": "stream",
     "text": [
      "\n"
     ]
    },
    {
     "name": "stdout",
     "output_type": "stream",
     "text": [
      "\n",
      "      Epoch    GPU_mem   box_loss   cls_loss   dfl_loss  Instances       Size\n"
     ]
    },
    {
     "name": "stderr",
     "output_type": "stream",
     "text": [
      "      24/50      2.23G        nan        nan        nan          5        640: 100%|██████████| 26/26 [00:47<00:00,  1.85s/it]\n",
      "                 Class     Images  Instances      Box(P          R      mAP50  mAP50-95): 100%|██████████| 4/4 [00:01<00:00,  2.74it/s]"
     ]
    },
    {
     "name": "stdout",
     "output_type": "stream",
     "text": [
      "                   all        101        309     0.0416      0.426     0.0427     0.0223\n"
     ]
    },
    {
     "name": "stderr",
     "output_type": "stream",
     "text": [
      "\n"
     ]
    },
    {
     "name": "stdout",
     "output_type": "stream",
     "text": [
      "\n",
      "      Epoch    GPU_mem   box_loss   cls_loss   dfl_loss  Instances       Size\n"
     ]
    },
    {
     "name": "stderr",
     "output_type": "stream",
     "text": [
      "      25/50      2.19G        nan        nan        nan          2        640: 100%|██████████| 26/26 [00:45<00:00,  1.74s/it]\n",
      "                 Class     Images  Instances      Box(P          R      mAP50  mAP50-95): 100%|██████████| 4/4 [00:01<00:00,  2.71it/s]"
     ]
    },
    {
     "name": "stdout",
     "output_type": "stream",
     "text": [
      "                   all        101        309     0.0428      0.426     0.0418     0.0217\n"
     ]
    },
    {
     "name": "stderr",
     "output_type": "stream",
     "text": [
      "\n"
     ]
    },
    {
     "name": "stdout",
     "output_type": "stream",
     "text": [
      "\n",
      "      Epoch    GPU_mem   box_loss   cls_loss   dfl_loss  Instances       Size\n"
     ]
    },
    {
     "name": "stderr",
     "output_type": "stream",
     "text": [
      "      26/50      2.21G        nan        nan        nan         16        640: 100%|██████████| 26/26 [00:42<00:00,  1.62s/it]\n",
      "                 Class     Images  Instances      Box(P          R      mAP50  mAP50-95): 100%|██████████| 4/4 [00:01<00:00,  2.76it/s]"
     ]
    },
    {
     "name": "stdout",
     "output_type": "stream",
     "text": [
      "                   all        101        309     0.0437       0.44     0.0428     0.0219\n"
     ]
    },
    {
     "name": "stderr",
     "output_type": "stream",
     "text": [
      "\n"
     ]
    },
    {
     "name": "stdout",
     "output_type": "stream",
     "text": [
      "\n",
      "      Epoch    GPU_mem   box_loss   cls_loss   dfl_loss  Instances       Size\n"
     ]
    },
    {
     "name": "stderr",
     "output_type": "stream",
     "text": [
      "      27/50      2.21G        nan        nan        nan         12        640: 100%|██████████| 26/26 [00:52<00:00,  2.01s/it]\n",
      "                 Class     Images  Instances      Box(P          R      mAP50  mAP50-95): 100%|██████████| 4/4 [00:01<00:00,  2.73it/s]"
     ]
    },
    {
     "name": "stdout",
     "output_type": "stream",
     "text": [
      "                   all        101        309     0.0437      0.435      0.042     0.0216\n"
     ]
    },
    {
     "name": "stderr",
     "output_type": "stream",
     "text": [
      "\n"
     ]
    },
    {
     "name": "stdout",
     "output_type": "stream",
     "text": [
      "\n",
      "      Epoch    GPU_mem   box_loss   cls_loss   dfl_loss  Instances       Size\n"
     ]
    },
    {
     "name": "stderr",
     "output_type": "stream",
     "text": [
      "      28/50       2.2G        nan        nan        nan          4        640: 100%|██████████| 26/26 [00:41<00:00,  1.62s/it]\n",
      "                 Class     Images  Instances      Box(P          R      mAP50  mAP50-95): 100%|██████████| 4/4 [00:01<00:00,  2.74it/s]"
     ]
    },
    {
     "name": "stdout",
     "output_type": "stream",
     "text": [
      "                   all        101        309     0.0427      0.427     0.0409     0.0215\n"
     ]
    },
    {
     "name": "stderr",
     "output_type": "stream",
     "text": [
      "\n"
     ]
    },
    {
     "name": "stdout",
     "output_type": "stream",
     "text": [
      "\n",
      "      Epoch    GPU_mem   box_loss   cls_loss   dfl_loss  Instances       Size\n"
     ]
    },
    {
     "name": "stderr",
     "output_type": "stream",
     "text": [
      "      29/50      2.23G        nan        nan        nan          6        640: 100%|██████████| 26/26 [00:49<00:00,  1.90s/it]\n",
      "                 Class     Images  Instances      Box(P          R      mAP50  mAP50-95): 100%|██████████| 4/4 [00:01<00:00,  2.73it/s]"
     ]
    },
    {
     "name": "stdout",
     "output_type": "stream",
     "text": [
      "                   all        101        309     0.0433      0.435     0.0421     0.0217\n"
     ]
    },
    {
     "name": "stderr",
     "output_type": "stream",
     "text": [
      "\n"
     ]
    },
    {
     "name": "stdout",
     "output_type": "stream",
     "text": [
      "\n",
      "      Epoch    GPU_mem   box_loss   cls_loss   dfl_loss  Instances       Size\n"
     ]
    },
    {
     "name": "stderr",
     "output_type": "stream",
     "text": [
      "      30/50      2.22G        nan        nan        nan          5        640: 100%|██████████| 26/26 [00:42<00:00,  1.62s/it]\n",
      "                 Class     Images  Instances      Box(P          R      mAP50  mAP50-95): 100%|██████████| 4/4 [00:01<00:00,  2.74it/s]"
     ]
    },
    {
     "name": "stdout",
     "output_type": "stream",
     "text": [
      "                   all        101        309     0.0431      0.428     0.0431     0.0223\n"
     ]
    },
    {
     "name": "stderr",
     "output_type": "stream",
     "text": [
      "\n"
     ]
    },
    {
     "name": "stdout",
     "output_type": "stream",
     "text": [
      "\n",
      "      Epoch    GPU_mem   box_loss   cls_loss   dfl_loss  Instances       Size\n"
     ]
    },
    {
     "name": "stderr",
     "output_type": "stream",
     "text": [
      "      31/50      2.23G        nan        nan        nan          7        640: 100%|██████████| 26/26 [00:36<00:00,  1.41s/it]\n",
      "                 Class     Images  Instances      Box(P          R      mAP50  mAP50-95): 100%|██████████| 4/4 [00:01<00:00,  2.76it/s]"
     ]
    },
    {
     "name": "stdout",
     "output_type": "stream",
     "text": [
      "                   all        101        309     0.0428      0.426     0.0432     0.0223\n"
     ]
    },
    {
     "name": "stderr",
     "output_type": "stream",
     "text": [
      "\n"
     ]
    },
    {
     "name": "stdout",
     "output_type": "stream",
     "text": [
      "\n",
      "      Epoch    GPU_mem   box_loss   cls_loss   dfl_loss  Instances       Size\n"
     ]
    },
    {
     "name": "stderr",
     "output_type": "stream",
     "text": [
      "      32/50       2.2G        nan        nan        nan          5        640: 100%|██████████| 26/26 [00:51<00:00,  1.96s/it]\n",
      "                 Class     Images  Instances      Box(P          R      mAP50  mAP50-95): 100%|██████████| 4/4 [00:01<00:00,  2.73it/s]"
     ]
    },
    {
     "name": "stdout",
     "output_type": "stream",
     "text": [
      "                   all        101        309     0.0435      0.431     0.0427     0.0218\n"
     ]
    },
    {
     "name": "stderr",
     "output_type": "stream",
     "text": [
      "\n"
     ]
    },
    {
     "name": "stdout",
     "output_type": "stream",
     "text": [
      "\n",
      "      Epoch    GPU_mem   box_loss   cls_loss   dfl_loss  Instances       Size\n"
     ]
    },
    {
     "name": "stderr",
     "output_type": "stream",
     "text": [
      "      33/50      2.22G        nan        nan        nan          6        640: 100%|██████████| 26/26 [00:48<00:00,  1.88s/it]\n",
      "                 Class     Images  Instances      Box(P          R      mAP50  mAP50-95): 100%|██████████| 4/4 [00:01<00:00,  2.77it/s]"
     ]
    },
    {
     "name": "stdout",
     "output_type": "stream",
     "text": [
      "                   all        101        309     0.0435      0.435      0.044     0.0221\n"
     ]
    },
    {
     "name": "stderr",
     "output_type": "stream",
     "text": [
      "\n"
     ]
    },
    {
     "name": "stdout",
     "output_type": "stream",
     "text": [
      "\n",
      "      Epoch    GPU_mem   box_loss   cls_loss   dfl_loss  Instances       Size\n"
     ]
    },
    {
     "name": "stderr",
     "output_type": "stream",
     "text": [
      "      34/50      2.23G        nan        nan        nan          6        640: 100%|██████████| 26/26 [00:36<00:00,  1.41s/it]\n",
      "                 Class     Images  Instances      Box(P          R      mAP50  mAP50-95): 100%|██████████| 4/4 [00:01<00:00,  2.78it/s]"
     ]
    },
    {
     "name": "stdout",
     "output_type": "stream",
     "text": [
      "                   all        101        309     0.0441      0.444     0.0421     0.0212\n"
     ]
    },
    {
     "name": "stderr",
     "output_type": "stream",
     "text": [
      "\n"
     ]
    },
    {
     "name": "stdout",
     "output_type": "stream",
     "text": [
      "\n",
      "      Epoch    GPU_mem   box_loss   cls_loss   dfl_loss  Instances       Size\n"
     ]
    },
    {
     "name": "stderr",
     "output_type": "stream",
     "text": [
      "      35/50      2.22G        nan        nan        nan          4        640: 100%|██████████| 26/26 [00:48<00:00,  1.87s/it]\n",
      "                 Class     Images  Instances      Box(P          R      mAP50  mAP50-95): 100%|██████████| 4/4 [00:01<00:00,  2.76it/s]"
     ]
    },
    {
     "name": "stdout",
     "output_type": "stream",
     "text": [
      "                   all        101        309     0.0431      0.443     0.0429     0.0217\n"
     ]
    },
    {
     "name": "stderr",
     "output_type": "stream",
     "text": [
      "\n"
     ]
    },
    {
     "name": "stdout",
     "output_type": "stream",
     "text": [
      "\n",
      "      Epoch    GPU_mem   box_loss   cls_loss   dfl_loss  Instances       Size\n"
     ]
    },
    {
     "name": "stderr",
     "output_type": "stream",
     "text": [
      "      36/50      2.22G        nan        nan        nan         15        640: 100%|██████████| 26/26 [00:50<00:00,  1.92s/it]\n",
      "                 Class     Images  Instances      Box(P          R      mAP50  mAP50-95): 100%|██████████| 4/4 [00:01<00:00,  2.73it/s]"
     ]
    },
    {
     "name": "stdout",
     "output_type": "stream",
     "text": [
      "                   all        101        309     0.0427      0.426     0.0436     0.0224\n"
     ]
    },
    {
     "name": "stderr",
     "output_type": "stream",
     "text": [
      "\n"
     ]
    },
    {
     "name": "stdout",
     "output_type": "stream",
     "text": [
      "\n",
      "      Epoch    GPU_mem   box_loss   cls_loss   dfl_loss  Instances       Size\n"
     ]
    },
    {
     "name": "stderr",
     "output_type": "stream",
     "text": [
      "      37/50       2.2G        nan        nan        nan          9        640: 100%|██████████| 26/26 [00:44<00:00,  1.70s/it]\n",
      "                 Class     Images  Instances      Box(P          R      mAP50  mAP50-95): 100%|██████████| 4/4 [00:01<00:00,  2.76it/s]"
     ]
    },
    {
     "name": "stdout",
     "output_type": "stream",
     "text": [
      "                   all        101        309     0.0431      0.431     0.0428     0.0219\n"
     ]
    },
    {
     "name": "stderr",
     "output_type": "stream",
     "text": [
      "\n"
     ]
    },
    {
     "name": "stdout",
     "output_type": "stream",
     "text": [
      "\n",
      "      Epoch    GPU_mem   box_loss   cls_loss   dfl_loss  Instances       Size\n"
     ]
    },
    {
     "name": "stderr",
     "output_type": "stream",
     "text": [
      "      38/50       2.2G        nan        nan        nan          6        640: 100%|██████████| 26/26 [00:41<00:00,  1.60s/it]\n",
      "                 Class     Images  Instances      Box(P          R      mAP50  mAP50-95): 100%|██████████| 4/4 [00:01<00:00,  2.75it/s]"
     ]
    },
    {
     "name": "stdout",
     "output_type": "stream",
     "text": [
      "                   all        101        309     0.0425      0.431     0.0419     0.0217\n"
     ]
    },
    {
     "name": "stderr",
     "output_type": "stream",
     "text": [
      "\n"
     ]
    },
    {
     "name": "stdout",
     "output_type": "stream",
     "text": [
      "\n",
      "      Epoch    GPU_mem   box_loss   cls_loss   dfl_loss  Instances       Size\n"
     ]
    },
    {
     "name": "stderr",
     "output_type": "stream",
     "text": [
      "      39/50       2.2G        nan        nan        nan          2        640: 100%|██████████| 26/26 [00:47<00:00,  1.82s/it]\n",
      "                 Class     Images  Instances      Box(P          R      mAP50  mAP50-95): 100%|██████████| 4/4 [00:01<00:00,  2.70it/s]"
     ]
    },
    {
     "name": "stdout",
     "output_type": "stream",
     "text": [
      "                   all        101        309     0.0436      0.433     0.0427     0.0219\n"
     ]
    },
    {
     "name": "stderr",
     "output_type": "stream",
     "text": [
      "\n"
     ]
    },
    {
     "name": "stdout",
     "output_type": "stream",
     "text": [
      "\n",
      "      Epoch    GPU_mem   box_loss   cls_loss   dfl_loss  Instances       Size\n"
     ]
    },
    {
     "name": "stderr",
     "output_type": "stream",
     "text": [
      "      40/50      2.19G        nan        nan        nan          2        640: 100%|██████████| 26/26 [00:44<00:00,  1.73s/it]\n",
      "                 Class     Images  Instances      Box(P          R      mAP50  mAP50-95): 100%|██████████| 4/4 [00:01<00:00,  2.72it/s]"
     ]
    },
    {
     "name": "stdout",
     "output_type": "stream",
     "text": [
      "                   all        101        309     0.0434      0.433     0.0426     0.0218\n"
     ]
    },
    {
     "name": "stderr",
     "output_type": "stream",
     "text": [
      "\n"
     ]
    },
    {
     "name": "stdout",
     "output_type": "stream",
     "text": [
      "Closing dataloader mosaic\n",
      "\u001b[34m\u001b[1malbumentations: \u001b[0mBlur(p=0.01, blur_limit=(3, 7)), MedianBlur(p=0.01, blur_limit=(3, 7)), ToGray(p=0.01), CLAHE(p=0.01, clip_limit=(1, 4.0), tile_grid_size=(8, 8))\n"
     ]
    }
   ],
   "source": [
    "from autodistill_yolov8 import YOLOv8\n",
    "\n",
    "# Load YOLOv8 model\n",
    "target_model = YOLOv8(\"yolov8n.pt\")\n",
    "\n",
    "target_model.train(DATA_YAML_PATH, epochs=50, device=[0])\n"
   ]
  },
  {
   "cell_type": "code",
   "execution_count": null,
   "metadata": {},
   "outputs": [],
   "source": [
    "from autodistill_yolov8 import YOLOv8\n",
    "\n",
    "import os\n",
    "HOME = os.getcwd()\n",
    "\n",
    "import supervision as sv\n",
    "\n",
    "\n",
    "\n",
    "DATA_YAML_PATH = f\"{HOME}/dataset/data.yaml\"\n",
    "\n",
    "TRAINED_MODEL_PATH = f\"{HOME}/runs/detect/train/weights/last.pt\"\n",
    "\n",
    "# Load YOLOv8 model\n",
    "model2 = YOLOv8(TRAINED_MODEL_PATH)\n",
    "\n",
    "model2.train(DATA_YAML_PATH,resume=True)"
   ]
  },
  {
   "cell_type": "code",
   "execution_count": 9,
   "metadata": {},
   "outputs": [],
   "source": [
    "import os\n",
    "HOME = os.getcwd()\n",
    "INPUT_VIDEO_PATH = f\"{HOME}/vid1.mp4\"\n",
    "OUTPUT_VIDEO_PATH = f\"{HOME}/output.mp4\"\n",
    "TRAINED_MODEL_PATH = f\"{HOME}/runs/detect/train/weights/best.pt\""
   ]
  },
  {
   "cell_type": "code",
   "execution_count": 17,
   "metadata": {},
   "outputs": [
    {
     "name": "stdout",
     "output_type": "stream",
     "text": [
      "\n",
      "\n",
      "WARNING  inference results will accumulate in RAM unless `stream=True` is passed, causing potential out-of-memory\n",
      "errors for large sources or long-running streams and videos. See https://docs.ultralytics.com/modes/predict/ for help.\n",
      "\n",
      "Example:\n",
      "    results = model(source=..., stream=True)  # generator of Results objects\n",
      "    for r in results:\n",
      "        boxes = r.boxes  # Boxes object for bbox outputs\n",
      "        masks = r.masks  # Masks object for segment masks outputs\n",
      "        probs = r.probs  # Class probabilities for classification outputs\n",
      "\n",
      "video 1/1 (frame 1/502) d:\\1_DSCE\\Major_project\\yolo\\vid1.mp4: 384x640 2 stands, 1 walk, 80.0ms\n",
      "video 1/1 (frame 2/502) d:\\1_DSCE\\Major_project\\yolo\\vid1.mp4: 384x640 2 stands, 2 walks, 85.0ms\n",
      "video 1/1 (frame 3/502) d:\\1_DSCE\\Major_project\\yolo\\vid1.mp4: 384x640 2 stands, 2 walks, 71.0ms\n",
      "video 1/1 (frame 4/502) d:\\1_DSCE\\Major_project\\yolo\\vid1.mp4: 384x640 2 stands, 2 walks, 69.7ms\n",
      "video 1/1 (frame 5/502) d:\\1_DSCE\\Major_project\\yolo\\vid1.mp4: 384x640 2 stands, 2 walks, 82.0ms\n",
      "video 1/1 (frame 6/502) d:\\1_DSCE\\Major_project\\yolo\\vid1.mp4: 384x640 2 stands, 2 walks, 72.8ms\n",
      "video 1/1 (frame 7/502) d:\\1_DSCE\\Major_project\\yolo\\vid1.mp4: 384x640 2 stands, 1 walk, 73.0ms\n",
      "video 1/1 (frame 8/502) d:\\1_DSCE\\Major_project\\yolo\\vid1.mp4: 384x640 2 stands, 1 walk, 74.0ms\n",
      "video 1/1 (frame 9/502) d:\\1_DSCE\\Major_project\\yolo\\vid1.mp4: 384x640 2 stands, 1 walk, 71.9ms\n",
      "video 1/1 (frame 10/502) d:\\1_DSCE\\Major_project\\yolo\\vid1.mp4: 384x640 2 stands, 1 walk, 70.0ms\n",
      "video 1/1 (frame 11/502) d:\\1_DSCE\\Major_project\\yolo\\vid1.mp4: 384x640 2 stands, 1 walk, 69.0ms\n",
      "video 1/1 (frame 12/502) d:\\1_DSCE\\Major_project\\yolo\\vid1.mp4: 384x640 2 stands, 1 walk, 70.0ms\n",
      "video 1/1 (frame 13/502) d:\\1_DSCE\\Major_project\\yolo\\vid1.mp4: 384x640 2 stands, 1 walk, 73.8ms\n",
      "video 1/1 (frame 14/502) d:\\1_DSCE\\Major_project\\yolo\\vid1.mp4: 384x640 2 stands, 1 walk, 67.0ms\n",
      "video 1/1 (frame 15/502) d:\\1_DSCE\\Major_project\\yolo\\vid1.mp4: 384x640 2 stands, 1 walk, 68.0ms\n",
      "video 1/1 (frame 16/502) d:\\1_DSCE\\Major_project\\yolo\\vid1.mp4: 384x640 2 stands, 1 walk, 66.0ms\n",
      "video 1/1 (frame 17/502) d:\\1_DSCE\\Major_project\\yolo\\vid1.mp4: 384x640 2 stands, 1 walk, 64.0ms\n",
      "video 1/1 (frame 18/502) d:\\1_DSCE\\Major_project\\yolo\\vid1.mp4: 384x640 2 stands, 1 walk, 71.0ms\n",
      "video 1/1 (frame 19/502) d:\\1_DSCE\\Major_project\\yolo\\vid1.mp4: 384x640 2 stands, 1 walk, 70.1ms\n",
      "video 1/1 (frame 20/502) d:\\1_DSCE\\Major_project\\yolo\\vid1.mp4: 384x640 2 stands, 1 walk, 65.0ms\n",
      "video 1/1 (frame 21/502) d:\\1_DSCE\\Major_project\\yolo\\vid1.mp4: 384x640 2 stands, 1 walk, 68.0ms\n",
      "video 1/1 (frame 22/502) d:\\1_DSCE\\Major_project\\yolo\\vid1.mp4: 384x640 2 stands, 1 walk, 68.0ms\n",
      "video 1/1 (frame 23/502) d:\\1_DSCE\\Major_project\\yolo\\vid1.mp4: 384x640 2 stands, 1 walk, 66.0ms\n",
      "video 1/1 (frame 24/502) d:\\1_DSCE\\Major_project\\yolo\\vid1.mp4: 384x640 2 stands, 1 walk, 67.2ms\n",
      "video 1/1 (frame 25/502) d:\\1_DSCE\\Major_project\\yolo\\vid1.mp4: 384x640 2 stands, 1 walk, 79.0ms\n",
      "video 1/1 (frame 26/502) d:\\1_DSCE\\Major_project\\yolo\\vid1.mp4: 384x640 2 stands, 1 walk, 66.0ms\n",
      "video 1/1 (frame 27/502) d:\\1_DSCE\\Major_project\\yolo\\vid1.mp4: 384x640 2 stands, 1 walk, 67.0ms\n",
      "video 1/1 (frame 28/502) d:\\1_DSCE\\Major_project\\yolo\\vid1.mp4: 384x640 2 stands, 1 walk, 67.0ms\n",
      "video 1/1 (frame 29/502) d:\\1_DSCE\\Major_project\\yolo\\vid1.mp4: 384x640 2 stands, 1 walk, 68.3ms\n",
      "video 1/1 (frame 30/502) d:\\1_DSCE\\Major_project\\yolo\\vid1.mp4: 384x640 2 stands, 1 walk, 66.0ms\n",
      "video 1/1 (frame 31/502) d:\\1_DSCE\\Major_project\\yolo\\vid1.mp4: 384x640 2 stands, 1 walk, 80.0ms\n",
      "video 1/1 (frame 32/502) d:\\1_DSCE\\Major_project\\yolo\\vid1.mp4: 384x640 2 stands, 1 walk, 151.0ms\n",
      "video 1/1 (frame 33/502) d:\\1_DSCE\\Major_project\\yolo\\vid1.mp4: 384x640 2 stands, 1 walk, 90.0ms\n",
      "video 1/1 (frame 34/502) d:\\1_DSCE\\Major_project\\yolo\\vid1.mp4: 384x640 2 stands, 1 walk, 83.0ms\n",
      "video 1/1 (frame 35/502) d:\\1_DSCE\\Major_project\\yolo\\vid1.mp4: 384x640 2 stands, 1 walk, 74.0ms\n",
      "video 1/1 (frame 36/502) d:\\1_DSCE\\Major_project\\yolo\\vid1.mp4: 384x640 2 stands, 1 walk, 66.0ms\n",
      "video 1/1 (frame 37/502) d:\\1_DSCE\\Major_project\\yolo\\vid1.mp4: 384x640 2 stands, 1 walk, 64.0ms\n",
      "video 1/1 (frame 38/502) d:\\1_DSCE\\Major_project\\yolo\\vid1.mp4: 384x640 2 stands, 1 walk, 66.0ms\n",
      "video 1/1 (frame 39/502) d:\\1_DSCE\\Major_project\\yolo\\vid1.mp4: 384x640 2 stands, 1 walk, 65.0ms\n",
      "video 1/1 (frame 40/502) d:\\1_DSCE\\Major_project\\yolo\\vid1.mp4: 384x640 2 stands, 1 walk, 90.0ms\n",
      "video 1/1 (frame 41/502) d:\\1_DSCE\\Major_project\\yolo\\vid1.mp4: 384x640 2 stands, 1 walk, 73.0ms\n",
      "video 1/1 (frame 42/502) d:\\1_DSCE\\Major_project\\yolo\\vid1.mp4: 384x640 2 stands, 1 walk, 65.0ms\n",
      "video 1/1 (frame 43/502) d:\\1_DSCE\\Major_project\\yolo\\vid1.mp4: 384x640 2 stands, 1 walk, 66.0ms\n",
      "video 1/1 (frame 44/502) d:\\1_DSCE\\Major_project\\yolo\\vid1.mp4: 384x640 2 stands, 1 walk, 65.0ms\n",
      "video 1/1 (frame 45/502) d:\\1_DSCE\\Major_project\\yolo\\vid1.mp4: 384x640 2 stands, 1 walk, 65.0ms\n",
      "video 1/1 (frame 46/502) d:\\1_DSCE\\Major_project\\yolo\\vid1.mp4: 384x640 2 stands, 1 walk, 69.0ms\n",
      "video 1/1 (frame 47/502) d:\\1_DSCE\\Major_project\\yolo\\vid1.mp4: 384x640 2 stands, 1 walk, 66.0ms\n",
      "video 1/1 (frame 48/502) d:\\1_DSCE\\Major_project\\yolo\\vid1.mp4: 384x640 2 stands, 1 walk, 66.0ms\n",
      "video 1/1 (frame 49/502) d:\\1_DSCE\\Major_project\\yolo\\vid1.mp4: 384x640 2 stands, 1 walk, 74.2ms\n",
      "video 1/1 (frame 50/502) d:\\1_DSCE\\Major_project\\yolo\\vid1.mp4: 384x640 2 stands, 1 walk, 67.0ms\n",
      "video 1/1 (frame 51/502) d:\\1_DSCE\\Major_project\\yolo\\vid1.mp4: 384x640 2 stands, 1 walk, 65.0ms\n",
      "video 1/1 (frame 52/502) d:\\1_DSCE\\Major_project\\yolo\\vid1.mp4: 384x640 2 stands, 1 walk, 65.0ms\n",
      "video 1/1 (frame 53/502) d:\\1_DSCE\\Major_project\\yolo\\vid1.mp4: 384x640 2 stands, 1 walk, 64.0ms\n",
      "video 1/1 (frame 54/502) d:\\1_DSCE\\Major_project\\yolo\\vid1.mp4: 384x640 2 stands, 1 walk, 64.0ms\n",
      "video 1/1 (frame 55/502) d:\\1_DSCE\\Major_project\\yolo\\vid1.mp4: 384x640 2 stands, 1 walk, 68.1ms\n",
      "video 1/1 (frame 56/502) d:\\1_DSCE\\Major_project\\yolo\\vid1.mp4: 384x640 2 stands, 1 walk, 65.0ms\n",
      "video 1/1 (frame 57/502) d:\\1_DSCE\\Major_project\\yolo\\vid1.mp4: 384x640 2 stands, 1 walk, 66.0ms\n",
      "video 1/1 (frame 58/502) d:\\1_DSCE\\Major_project\\yolo\\vid1.mp4: 384x640 2 stands, 1 walk, 69.6ms\n",
      "video 1/1 (frame 59/502) d:\\1_DSCE\\Major_project\\yolo\\vid1.mp4: 384x640 2 stands, 1 walk, 66.0ms\n",
      "video 1/1 (frame 60/502) d:\\1_DSCE\\Major_project\\yolo\\vid1.mp4: 384x640 2 stands, 1 walk, 65.0ms\n",
      "video 1/1 (frame 61/502) d:\\1_DSCE\\Major_project\\yolo\\vid1.mp4: 384x640 2 stands, 1 walk, 64.0ms\n",
      "video 1/1 (frame 62/502) d:\\1_DSCE\\Major_project\\yolo\\vid1.mp4: 384x640 2 stands, 1 walk, 65.0ms\n",
      "video 1/1 (frame 63/502) d:\\1_DSCE\\Major_project\\yolo\\vid1.mp4: 384x640 2 stands, 65.0ms\n",
      "video 1/1 (frame 64/502) d:\\1_DSCE\\Major_project\\yolo\\vid1.mp4: 384x640 2 stands, 1 walk, 65.5ms\n",
      "video 1/1 (frame 65/502) d:\\1_DSCE\\Major_project\\yolo\\vid1.mp4: 384x640 2 stands, 1 walk, 64.0ms\n",
      "video 1/1 (frame 66/502) d:\\1_DSCE\\Major_project\\yolo\\vid1.mp4: 384x640 2 stands, 1 walk, 65.0ms\n",
      "video 1/1 (frame 67/502) d:\\1_DSCE\\Major_project\\yolo\\vid1.mp4: 384x640 2 stands, 1 walk, 64.0ms\n",
      "video 1/1 (frame 68/502) d:\\1_DSCE\\Major_project\\yolo\\vid1.mp4: 384x640 2 stands, 1 walk, 68.0ms\n",
      "video 1/1 (frame 69/502) d:\\1_DSCE\\Major_project\\yolo\\vid1.mp4: 384x640 2 stands, 1 walk, 91.0ms\n",
      "video 1/1 (frame 70/502) d:\\1_DSCE\\Major_project\\yolo\\vid1.mp4: 384x640 2 stands, 1 walk, 81.0ms\n",
      "video 1/1 (frame 71/502) d:\\1_DSCE\\Major_project\\yolo\\vid1.mp4: 384x640 2 stands, 1 walk, 68.8ms\n",
      "video 1/1 (frame 72/502) d:\\1_DSCE\\Major_project\\yolo\\vid1.mp4: 384x640 2 stands, 1 walk, 65.0ms\n",
      "video 1/1 (frame 73/502) d:\\1_DSCE\\Major_project\\yolo\\vid1.mp4: 384x640 2 stands, 1 walk, 65.0ms\n",
      "video 1/1 (frame 74/502) d:\\1_DSCE\\Major_project\\yolo\\vid1.mp4: 384x640 2 stands, 1 walk, 69.2ms\n",
      "video 1/1 (frame 75/502) d:\\1_DSCE\\Major_project\\yolo\\vid1.mp4: 384x640 2 stands, 1 walk, 69.0ms\n",
      "video 1/1 (frame 76/502) d:\\1_DSCE\\Major_project\\yolo\\vid1.mp4: 384x640 2 stands, 1 walk, 69.0ms\n",
      "video 1/1 (frame 77/502) d:\\1_DSCE\\Major_project\\yolo\\vid1.mp4: 384x640 2 stands, 1 walk, 70.0ms\n",
      "video 1/1 (frame 78/502) d:\\1_DSCE\\Major_project\\yolo\\vid1.mp4: 384x640 2 stands, 1 walk, 91.0ms\n",
      "video 1/1 (frame 79/502) d:\\1_DSCE\\Major_project\\yolo\\vid1.mp4: 384x640 2 stands, 1 walk, 81.0ms\n",
      "video 1/1 (frame 80/502) d:\\1_DSCE\\Major_project\\yolo\\vid1.mp4: 384x640 2 stands, 1 walk, 66.0ms\n",
      "video 1/1 (frame 81/502) d:\\1_DSCE\\Major_project\\yolo\\vid1.mp4: 384x640 2 stands, 1 walk, 65.0ms\n",
      "video 1/1 (frame 82/502) d:\\1_DSCE\\Major_project\\yolo\\vid1.mp4: 384x640 2 stands, 1 walk, 70.5ms\n",
      "video 1/1 (frame 83/502) d:\\1_DSCE\\Major_project\\yolo\\vid1.mp4: 384x640 2 stands, 1 walk, 71.0ms\n",
      "video 1/1 (frame 84/502) d:\\1_DSCE\\Major_project\\yolo\\vid1.mp4: 384x640 2 stands, 1 walk, 69.7ms\n",
      "video 1/1 (frame 85/502) d:\\1_DSCE\\Major_project\\yolo\\vid1.mp4: 384x640 2 stands, 1 walk, 66.0ms\n",
      "video 1/1 (frame 86/502) d:\\1_DSCE\\Major_project\\yolo\\vid1.mp4: 384x640 2 stands, 1 walk, 70.9ms\n",
      "video 1/1 (frame 87/502) d:\\1_DSCE\\Major_project\\yolo\\vid1.mp4: 384x640 2 stands, 1 walk, 74.0ms\n",
      "video 1/1 (frame 88/502) d:\\1_DSCE\\Major_project\\yolo\\vid1.mp4: 384x640 2 stands, 1 walk, 89.0ms\n",
      "video 1/1 (frame 89/502) d:\\1_DSCE\\Major_project\\yolo\\vid1.mp4: 384x640 2 stands, 1 walk, 115.0ms\n",
      "video 1/1 (frame 90/502) d:\\1_DSCE\\Major_project\\yolo\\vid1.mp4: 384x640 2 stands, 1 walk, 113.0ms\n",
      "video 1/1 (frame 91/502) d:\\1_DSCE\\Major_project\\yolo\\vid1.mp4: 384x640 2 stands, 1 walk, 134.6ms\n",
      "video 1/1 (frame 92/502) d:\\1_DSCE\\Major_project\\yolo\\vid1.mp4: 384x640 2 stands, 1 walk, 91.0ms\n",
      "video 1/1 (frame 93/502) d:\\1_DSCE\\Major_project\\yolo\\vid1.mp4: 384x640 2 stands, 1 walk, 78.0ms\n",
      "video 1/1 (frame 94/502) d:\\1_DSCE\\Major_project\\yolo\\vid1.mp4: 384x640 2 stands, 1 walk, 73.0ms\n",
      "video 1/1 (frame 95/502) d:\\1_DSCE\\Major_project\\yolo\\vid1.mp4: 384x640 2 stands, 1 walk, 72.5ms\n",
      "video 1/1 (frame 96/502) d:\\1_DSCE\\Major_project\\yolo\\vid1.mp4: 384x640 2 stands, 1 walk, 69.0ms\n",
      "video 1/1 (frame 97/502) d:\\1_DSCE\\Major_project\\yolo\\vid1.mp4: 384x640 2 stands, 1 walk, 71.0ms\n",
      "video 1/1 (frame 98/502) d:\\1_DSCE\\Major_project\\yolo\\vid1.mp4: 384x640 2 stands, 1 walk, 66.0ms\n",
      "video 1/1 (frame 99/502) d:\\1_DSCE\\Major_project\\yolo\\vid1.mp4: 384x640 2 stands, 1 walk, 65.1ms\n",
      "video 1/1 (frame 100/502) d:\\1_DSCE\\Major_project\\yolo\\vid1.mp4: 384x640 2 stands, 1 walk, 75.0ms\n",
      "video 1/1 (frame 101/502) d:\\1_DSCE\\Major_project\\yolo\\vid1.mp4: 384x640 2 stands, 1 walk, 84.1ms\n",
      "video 1/1 (frame 102/502) d:\\1_DSCE\\Major_project\\yolo\\vid1.mp4: 384x640 2 stands, 1 walk, 108.0ms\n",
      "video 1/1 (frame 103/502) d:\\1_DSCE\\Major_project\\yolo\\vid1.mp4: 384x640 2 stands, 1 walk, 72.0ms\n",
      "video 1/1 (frame 104/502) d:\\1_DSCE\\Major_project\\yolo\\vid1.mp4: 384x640 2 stands, 1 walk, 69.0ms\n",
      "video 1/1 (frame 105/502) d:\\1_DSCE\\Major_project\\yolo\\vid1.mp4: 384x640 2 stands, 1 walk, 67.0ms\n",
      "video 1/1 (frame 106/502) d:\\1_DSCE\\Major_project\\yolo\\vid1.mp4: 384x640 2 stands, 1 walk, 70.0ms\n",
      "video 1/1 (frame 107/502) d:\\1_DSCE\\Major_project\\yolo\\vid1.mp4: 384x640 2 stands, 1 walk, 70.0ms\n",
      "video 1/1 (frame 108/502) d:\\1_DSCE\\Major_project\\yolo\\vid1.mp4: 384x640 2 stands, 1 walk, 70.0ms\n",
      "video 1/1 (frame 109/502) d:\\1_DSCE\\Major_project\\yolo\\vid1.mp4: 384x640 2 stands, 1 walk, 79.0ms\n",
      "video 1/1 (frame 110/502) d:\\1_DSCE\\Major_project\\yolo\\vid1.mp4: 384x640 2 stands, 1 walk, 71.6ms\n",
      "video 1/1 (frame 111/502) d:\\1_DSCE\\Major_project\\yolo\\vid1.mp4: 384x640 2 stands, 1 walk, 69.0ms\n",
      "video 1/1 (frame 112/502) d:\\1_DSCE\\Major_project\\yolo\\vid1.mp4: 384x640 2 stands, 1 walk, 71.0ms\n",
      "video 1/1 (frame 113/502) d:\\1_DSCE\\Major_project\\yolo\\vid1.mp4: 384x640 2 stands, 1 walk, 74.0ms\n",
      "video 1/1 (frame 114/502) d:\\1_DSCE\\Major_project\\yolo\\vid1.mp4: 384x640 2 stands, 1 walk, 71.0ms\n",
      "video 1/1 (frame 115/502) d:\\1_DSCE\\Major_project\\yolo\\vid1.mp4: 384x640 2 stands, 1 walk, 65.3ms\n",
      "video 1/1 (frame 116/502) d:\\1_DSCE\\Major_project\\yolo\\vid1.mp4: 384x640 2 stands, 1 walk, 71.0ms\n",
      "video 1/1 (frame 117/502) d:\\1_DSCE\\Major_project\\yolo\\vid1.mp4: 384x640 2 stands, 70.0ms\n",
      "video 1/1 (frame 118/502) d:\\1_DSCE\\Major_project\\yolo\\vid1.mp4: 384x640 1 stand, 69.0ms\n",
      "video 1/1 (frame 119/502) d:\\1_DSCE\\Major_project\\yolo\\vid1.mp4: 384x640 1 stand, 69.0ms\n",
      "video 1/1 (frame 120/502) d:\\1_DSCE\\Major_project\\yolo\\vid1.mp4: 384x640 1 stand, 70.0ms\n",
      "video 1/1 (frame 121/502) d:\\1_DSCE\\Major_project\\yolo\\vid1.mp4: 384x640 1 stand, 73.0ms\n",
      "video 1/1 (frame 122/502) d:\\1_DSCE\\Major_project\\yolo\\vid1.mp4: 384x640 1 stand, 67.0ms\n",
      "video 1/1 (frame 123/502) d:\\1_DSCE\\Major_project\\yolo\\vid1.mp4: 384x640 1 stand, 70.0ms\n",
      "video 1/1 (frame 124/502) d:\\1_DSCE\\Major_project\\yolo\\vid1.mp4: 384x640 1 stand, 83.0ms\n",
      "video 1/1 (frame 125/502) d:\\1_DSCE\\Major_project\\yolo\\vid1.mp4: 384x640 1 stand, 81.0ms\n",
      "video 1/1 (frame 126/502) d:\\1_DSCE\\Major_project\\yolo\\vid1.mp4: 384x640 1 stand, 79.0ms\n",
      "video 1/1 (frame 127/502) d:\\1_DSCE\\Major_project\\yolo\\vid1.mp4: 384x640 1 stand, 76.0ms\n",
      "video 1/1 (frame 128/502) d:\\1_DSCE\\Major_project\\yolo\\vid1.mp4: 384x640 1 stand, 78.0ms\n",
      "video 1/1 (frame 129/502) d:\\1_DSCE\\Major_project\\yolo\\vid1.mp4: 384x640 1 stand, 69.0ms\n",
      "video 1/1 (frame 130/502) d:\\1_DSCE\\Major_project\\yolo\\vid1.mp4: 384x640 1 stand, 66.0ms\n",
      "video 1/1 (frame 131/502) d:\\1_DSCE\\Major_project\\yolo\\vid1.mp4: 384x640 1 stand, 68.0ms\n",
      "video 1/1 (frame 132/502) d:\\1_DSCE\\Major_project\\yolo\\vid1.mp4: 384x640 1 stand, 69.0ms\n",
      "video 1/1 (frame 133/502) d:\\1_DSCE\\Major_project\\yolo\\vid1.mp4: 384x640 1 stand, 64.0ms\n",
      "video 1/1 (frame 134/502) d:\\1_DSCE\\Major_project\\yolo\\vid1.mp4: 384x640 1 stand, 71.0ms\n",
      "video 1/1 (frame 135/502) d:\\1_DSCE\\Major_project\\yolo\\vid1.mp4: 384x640 1 stand, 89.0ms\n",
      "video 1/1 (frame 136/502) d:\\1_DSCE\\Major_project\\yolo\\vid1.mp4: 384x640 1 stand, 75.0ms\n",
      "video 1/1 (frame 137/502) d:\\1_DSCE\\Major_project\\yolo\\vid1.mp4: 384x640 1 stand, 71.9ms\n",
      "video 1/1 (frame 138/502) d:\\1_DSCE\\Major_project\\yolo\\vid1.mp4: 384x640 1 stand, 65.0ms\n",
      "video 1/1 (frame 139/502) d:\\1_DSCE\\Major_project\\yolo\\vid1.mp4: 384x640 1 stand, 67.0ms\n",
      "video 1/1 (frame 140/502) d:\\1_DSCE\\Major_project\\yolo\\vid1.mp4: 384x640 1 stand, 63.0ms\n",
      "video 1/1 (frame 141/502) d:\\1_DSCE\\Major_project\\yolo\\vid1.mp4: 384x640 1 stand, 65.6ms\n",
      "video 1/1 (frame 142/502) d:\\1_DSCE\\Major_project\\yolo\\vid1.mp4: 384x640 1 stand, 71.0ms\n",
      "video 1/1 (frame 143/502) d:\\1_DSCE\\Major_project\\yolo\\vid1.mp4: 384x640 1 stand, 68.0ms\n",
      "video 1/1 (frame 144/502) d:\\1_DSCE\\Major_project\\yolo\\vid1.mp4: 384x640 1 stand, 67.0ms\n",
      "video 1/1 (frame 145/502) d:\\1_DSCE\\Major_project\\yolo\\vid1.mp4: 384x640 1 stand, 62.0ms\n",
      "video 1/1 (frame 146/502) d:\\1_DSCE\\Major_project\\yolo\\vid1.mp4: 384x640 1 stand, 62.0ms\n",
      "video 1/1 (frame 147/502) d:\\1_DSCE\\Major_project\\yolo\\vid1.mp4: 384x640 1 stand, 68.0ms\n",
      "video 1/1 (frame 148/502) d:\\1_DSCE\\Major_project\\yolo\\vid1.mp4: 384x640 1 stand, 69.0ms\n",
      "video 1/1 (frame 149/502) d:\\1_DSCE\\Major_project\\yolo\\vid1.mp4: 384x640 1 stand, 69.0ms\n",
      "video 1/1 (frame 150/502) d:\\1_DSCE\\Major_project\\yolo\\vid1.mp4: 384x640 1 stand, 64.0ms\n",
      "video 1/1 (frame 151/502) d:\\1_DSCE\\Major_project\\yolo\\vid1.mp4: 384x640 1 stand, 70.1ms\n",
      "video 1/1 (frame 152/502) d:\\1_DSCE\\Major_project\\yolo\\vid1.mp4: 384x640 1 stand, 64.0ms\n",
      "video 1/1 (frame 153/502) d:\\1_DSCE\\Major_project\\yolo\\vid1.mp4: 384x640 1 stand, 65.0ms\n",
      "video 1/1 (frame 154/502) d:\\1_DSCE\\Major_project\\yolo\\vid1.mp4: 384x640 1 stand, 64.0ms\n",
      "video 1/1 (frame 155/502) d:\\1_DSCE\\Major_project\\yolo\\vid1.mp4: 384x640 1 stand, 70.0ms\n",
      "video 1/1 (frame 156/502) d:\\1_DSCE\\Major_project\\yolo\\vid1.mp4: 384x640 1 stand, 76.0ms\n",
      "video 1/1 (frame 157/502) d:\\1_DSCE\\Major_project\\yolo\\vid1.mp4: 384x640 1 stand, 69.0ms\n",
      "video 1/1 (frame 158/502) d:\\1_DSCE\\Major_project\\yolo\\vid1.mp4: 384x640 1 stand, 63.0ms\n",
      "video 1/1 (frame 159/502) d:\\1_DSCE\\Major_project\\yolo\\vid1.mp4: 384x640 1 stand, 68.0ms\n",
      "video 1/1 (frame 160/502) d:\\1_DSCE\\Major_project\\yolo\\vid1.mp4: 384x640 1 stand, 63.0ms\n",
      "video 1/1 (frame 161/502) d:\\1_DSCE\\Major_project\\yolo\\vid1.mp4: 384x640 1 stand, 63.0ms\n",
      "video 1/1 (frame 162/502) d:\\1_DSCE\\Major_project\\yolo\\vid1.mp4: 384x640 1 stand, 62.0ms\n",
      "video 1/1 (frame 163/502) d:\\1_DSCE\\Major_project\\yolo\\vid1.mp4: 384x640 1 stand, 63.0ms\n",
      "video 1/1 (frame 164/502) d:\\1_DSCE\\Major_project\\yolo\\vid1.mp4: 384x640 1 stand, 63.0ms\n",
      "video 1/1 (frame 165/502) d:\\1_DSCE\\Major_project\\yolo\\vid1.mp4: 384x640 1 stand, 63.0ms\n",
      "video 1/1 (frame 166/502) d:\\1_DSCE\\Major_project\\yolo\\vid1.mp4: 384x640 1 stand, 63.5ms\n",
      "video 1/1 (frame 167/502) d:\\1_DSCE\\Major_project\\yolo\\vid1.mp4: 384x640 1 stand, 63.0ms\n",
      "video 1/1 (frame 168/502) d:\\1_DSCE\\Major_project\\yolo\\vid1.mp4: 384x640 1 stand, 64.0ms\n",
      "video 1/1 (frame 169/502) d:\\1_DSCE\\Major_project\\yolo\\vid1.mp4: 384x640 1 stand, 70.0ms\n",
      "video 1/1 (frame 170/502) d:\\1_DSCE\\Major_project\\yolo\\vid1.mp4: 384x640 1 stand, 74.0ms\n",
      "video 1/1 (frame 171/502) d:\\1_DSCE\\Major_project\\yolo\\vid1.mp4: 384x640 1 stand, 77.9ms\n",
      "video 1/1 (frame 172/502) d:\\1_DSCE\\Major_project\\yolo\\vid1.mp4: 384x640 1 stand, 94.0ms\n",
      "video 1/1 (frame 173/502) d:\\1_DSCE\\Major_project\\yolo\\vid1.mp4: 384x640 1 stand, 108.0ms\n",
      "video 1/1 (frame 174/502) d:\\1_DSCE\\Major_project\\yolo\\vid1.mp4: 384x640 1 stand, 83.0ms\n",
      "video 1/1 (frame 175/502) d:\\1_DSCE\\Major_project\\yolo\\vid1.mp4: 384x640 1 stand, 72.0ms\n",
      "video 1/1 (frame 176/502) d:\\1_DSCE\\Major_project\\yolo\\vid1.mp4: 384x640 1 stand, 69.0ms\n",
      "video 1/1 (frame 177/502) d:\\1_DSCE\\Major_project\\yolo\\vid1.mp4: 384x640 1 stand, 76.0ms\n",
      "video 1/1 (frame 178/502) d:\\1_DSCE\\Major_project\\yolo\\vid1.mp4: 384x640 1 stand, 70.0ms\n",
      "video 1/1 (frame 179/502) d:\\1_DSCE\\Major_project\\yolo\\vid1.mp4: 384x640 1 stand, 69.0ms\n",
      "video 1/1 (frame 180/502) d:\\1_DSCE\\Major_project\\yolo\\vid1.mp4: 384x640 1 stand, 70.0ms\n",
      "video 1/1 (frame 181/502) d:\\1_DSCE\\Major_project\\yolo\\vid1.mp4: 384x640 1 stand, 80.0ms\n",
      "video 1/1 (frame 182/502) d:\\1_DSCE\\Major_project\\yolo\\vid1.mp4: 384x640 1 stand, 67.0ms\n",
      "video 1/1 (frame 183/502) d:\\1_DSCE\\Major_project\\yolo\\vid1.mp4: 384x640 1 stand, 68.0ms\n",
      "video 1/1 (frame 184/502) d:\\1_DSCE\\Major_project\\yolo\\vid1.mp4: 384x640 1 stand, 104.0ms\n",
      "video 1/1 (frame 185/502) d:\\1_DSCE\\Major_project\\yolo\\vid1.mp4: 384x640 1 stand, 75.0ms\n",
      "video 1/1 (frame 186/502) d:\\1_DSCE\\Major_project\\yolo\\vid1.mp4: 384x640 1 stand, 70.0ms\n",
      "video 1/1 (frame 187/502) d:\\1_DSCE\\Major_project\\yolo\\vid1.mp4: 384x640 1 stand, 73.0ms\n",
      "video 1/1 (frame 188/502) d:\\1_DSCE\\Major_project\\yolo\\vid1.mp4: 384x640 1 stand, 68.9ms\n",
      "video 1/1 (frame 189/502) d:\\1_DSCE\\Major_project\\yolo\\vid1.mp4: 384x640 1 stand, 69.0ms\n",
      "video 1/1 (frame 190/502) d:\\1_DSCE\\Major_project\\yolo\\vid1.mp4: 384x640 1 stand, 69.0ms\n",
      "video 1/1 (frame 191/502) d:\\1_DSCE\\Major_project\\yolo\\vid1.mp4: 384x640 1 stand, 69.0ms\n",
      "video 1/1 (frame 192/502) d:\\1_DSCE\\Major_project\\yolo\\vid1.mp4: 384x640 1 stand, 110.0ms\n",
      "video 1/1 (frame 193/502) d:\\1_DSCE\\Major_project\\yolo\\vid1.mp4: 384x640 1 stand, 82.0ms\n",
      "video 1/1 (frame 194/502) d:\\1_DSCE\\Major_project\\yolo\\vid1.mp4: 384x640 1 stand, 1 walk, 68.0ms\n",
      "video 1/1 (frame 195/502) d:\\1_DSCE\\Major_project\\yolo\\vid1.mp4: 384x640 1 stand, 63.0ms\n",
      "video 1/1 (frame 196/502) d:\\1_DSCE\\Major_project\\yolo\\vid1.mp4: 384x640 1 stand, 1 walk, 64.0ms\n",
      "video 1/1 (frame 197/502) d:\\1_DSCE\\Major_project\\yolo\\vid1.mp4: 384x640 1 stand, 1 walk, 62.0ms\n",
      "video 1/1 (frame 198/502) d:\\1_DSCE\\Major_project\\yolo\\vid1.mp4: 384x640 1 stand, 1 walk, 64.0ms\n",
      "video 1/1 (frame 199/502) d:\\1_DSCE\\Major_project\\yolo\\vid1.mp4: 384x640 1 stand, 1 walk, 70.0ms\n",
      "video 1/1 (frame 200/502) d:\\1_DSCE\\Major_project\\yolo\\vid1.mp4: 384x640 1 stand, 1 walk, 69.5ms\n",
      "video 1/1 (frame 201/502) d:\\1_DSCE\\Major_project\\yolo\\vid1.mp4: 384x640 1 stand, 1 walk, 69.0ms\n",
      "video 1/1 (frame 202/502) d:\\1_DSCE\\Major_project\\yolo\\vid1.mp4: 384x640 1 stand, 1 walk, 127.7ms\n",
      "video 1/1 (frame 203/502) d:\\1_DSCE\\Major_project\\yolo\\vid1.mp4: 384x640 1 stand, 1 walk, 106.0ms\n",
      "video 1/1 (frame 204/502) d:\\1_DSCE\\Major_project\\yolo\\vid1.mp4: 384x640 1 stand, 1 walk, 100.1ms\n",
      "video 1/1 (frame 205/502) d:\\1_DSCE\\Major_project\\yolo\\vid1.mp4: 384x640 1 stand, 1 walk, 68.0ms\n",
      "video 1/1 (frame 206/502) d:\\1_DSCE\\Major_project\\yolo\\vid1.mp4: 384x640 1 stand, 1 walk, 68.0ms\n",
      "video 1/1 (frame 207/502) d:\\1_DSCE\\Major_project\\yolo\\vid1.mp4: 384x640 1 stand, 1 walk, 67.0ms\n",
      "video 1/1 (frame 208/502) d:\\1_DSCE\\Major_project\\yolo\\vid1.mp4: 384x640 1 stand, 1 walk, 70.0ms\n",
      "video 1/1 (frame 209/502) d:\\1_DSCE\\Major_project\\yolo\\vid1.mp4: 384x640 1 stand, 1 walk, 104.0ms\n",
      "video 1/1 (frame 210/502) d:\\1_DSCE\\Major_project\\yolo\\vid1.mp4: 384x640 1 stand, 1 walk, 118.0ms\n",
      "video 1/1 (frame 211/502) d:\\1_DSCE\\Major_project\\yolo\\vid1.mp4: 384x640 1 stand, 1 walk, 94.0ms\n",
      "video 1/1 (frame 212/502) d:\\1_DSCE\\Major_project\\yolo\\vid1.mp4: 384x640 1 stand, 1 walk, 145.0ms\n",
      "video 1/1 (frame 213/502) d:\\1_DSCE\\Major_project\\yolo\\vid1.mp4: 384x640 1 stand, 1 walk, 118.0ms\n",
      "video 1/1 (frame 214/502) d:\\1_DSCE\\Major_project\\yolo\\vid1.mp4: 384x640 1 stand, 1 walk, 102.8ms\n",
      "video 1/1 (frame 215/502) d:\\1_DSCE\\Major_project\\yolo\\vid1.mp4: 384x640 1 stand, 1 walk, 100.0ms\n",
      "video 1/1 (frame 216/502) d:\\1_DSCE\\Major_project\\yolo\\vid1.mp4: 384x640 1 stand, 1 walk, 102.0ms\n",
      "video 1/1 (frame 217/502) d:\\1_DSCE\\Major_project\\yolo\\vid1.mp4: 384x640 1 stand, 1 walk, 83.0ms\n",
      "video 1/1 (frame 218/502) d:\\1_DSCE\\Major_project\\yolo\\vid1.mp4: 384x640 1 stand, 1 walk, 73.0ms\n",
      "video 1/1 (frame 219/502) d:\\1_DSCE\\Major_project\\yolo\\vid1.mp4: 384x640 1 stand, 2 walks, 79.0ms\n",
      "video 1/1 (frame 220/502) d:\\1_DSCE\\Major_project\\yolo\\vid1.mp4: 384x640 1 stand, 2 walks, 72.0ms\n",
      "video 1/1 (frame 221/502) d:\\1_DSCE\\Major_project\\yolo\\vid1.mp4: 384x640 1 stand, 3 walks, 70.0ms\n",
      "video 1/1 (frame 222/502) d:\\1_DSCE\\Major_project\\yolo\\vid1.mp4: 384x640 1 stand, 3 walks, 78.0ms\n",
      "video 1/1 (frame 223/502) d:\\1_DSCE\\Major_project\\yolo\\vid1.mp4: 384x640 1 stand, 3 walks, 71.0ms\n",
      "video 1/1 (frame 224/502) d:\\1_DSCE\\Major_project\\yolo\\vid1.mp4: 384x640 1 stand, 3 walks, 70.0ms\n",
      "video 1/1 (frame 225/502) d:\\1_DSCE\\Major_project\\yolo\\vid1.mp4: 384x640 1 stand, 3 walks, 72.0ms\n",
      "video 1/1 (frame 226/502) d:\\1_DSCE\\Major_project\\yolo\\vid1.mp4: 384x640 1 stand, 3 walks, 73.0ms\n",
      "video 1/1 (frame 227/502) d:\\1_DSCE\\Major_project\\yolo\\vid1.mp4: 384x640 1 stand, 2 walks, 70.0ms\n",
      "video 1/1 (frame 228/502) d:\\1_DSCE\\Major_project\\yolo\\vid1.mp4: 384x640 1 stand, 3 walks, 70.0ms\n",
      "video 1/1 (frame 229/502) d:\\1_DSCE\\Major_project\\yolo\\vid1.mp4: 384x640 1 stand, 2 walks, 75.0ms\n",
      "video 1/1 (frame 230/502) d:\\1_DSCE\\Major_project\\yolo\\vid1.mp4: 384x640 1 stand, 2 walks, 96.0ms\n",
      "video 1/1 (frame 231/502) d:\\1_DSCE\\Major_project\\yolo\\vid1.mp4: 384x640 1 stand, 1 walk, 152.0ms\n",
      "video 1/1 (frame 232/502) d:\\1_DSCE\\Major_project\\yolo\\vid1.mp4: 384x640 1 stand, 1 walk, 150.0ms\n",
      "video 1/1 (frame 233/502) d:\\1_DSCE\\Major_project\\yolo\\vid1.mp4: 384x640 1 stand, 2 walks, 127.1ms\n",
      "video 1/1 (frame 234/502) d:\\1_DSCE\\Major_project\\yolo\\vid1.mp4: 384x640 1 stand, 2 walks, 85.0ms\n",
      "video 1/1 (frame 235/502) d:\\1_DSCE\\Major_project\\yolo\\vid1.mp4: 384x640 1 stand, 2 walks, 69.0ms\n",
      "video 1/1 (frame 236/502) d:\\1_DSCE\\Major_project\\yolo\\vid1.mp4: 384x640 1 stand, 1 walk, 68.0ms\n",
      "video 1/1 (frame 237/502) d:\\1_DSCE\\Major_project\\yolo\\vid1.mp4: 384x640 1 stand, 1 walk, 68.0ms\n",
      "video 1/1 (frame 238/502) d:\\1_DSCE\\Major_project\\yolo\\vid1.mp4: 384x640 1 stand, 1 walk, 72.0ms\n",
      "video 1/1 (frame 239/502) d:\\1_DSCE\\Major_project\\yolo\\vid1.mp4: 384x640 1 stand, 1 walk, 72.0ms\n",
      "video 1/1 (frame 240/502) d:\\1_DSCE\\Major_project\\yolo\\vid1.mp4: 384x640 1 stand, 1 walk, 73.0ms\n",
      "video 1/1 (frame 241/502) d:\\1_DSCE\\Major_project\\yolo\\vid1.mp4: 384x640 1 stand, 1 walk, 71.0ms\n",
      "video 1/1 (frame 242/502) d:\\1_DSCE\\Major_project\\yolo\\vid1.mp4: 384x640 1 stand, 1 walk, 70.0ms\n",
      "video 1/1 (frame 243/502) d:\\1_DSCE\\Major_project\\yolo\\vid1.mp4: 384x640 1 stand, 3 walks, 70.0ms\n",
      "video 1/1 (frame 244/502) d:\\1_DSCE\\Major_project\\yolo\\vid1.mp4: 384x640 1 stand, 3 walks, 65.0ms\n",
      "video 1/1 (frame 245/502) d:\\1_DSCE\\Major_project\\yolo\\vid1.mp4: 384x640 1 stand, 3 walks, 68.0ms\n",
      "video 1/1 (frame 246/502) d:\\1_DSCE\\Major_project\\yolo\\vid1.mp4: 384x640 1 stand, 1 walk, 64.0ms\n",
      "video 1/1 (frame 247/502) d:\\1_DSCE\\Major_project\\yolo\\vid1.mp4: 384x640 1 stand, 1 walk, 67.0ms\n",
      "video 1/1 (frame 248/502) d:\\1_DSCE\\Major_project\\yolo\\vid1.mp4: 384x640 1 stand, 1 walk, 65.0ms\n",
      "video 1/1 (frame 249/502) d:\\1_DSCE\\Major_project\\yolo\\vid1.mp4: 384x640 1 stand, 1 walk, 65.7ms\n",
      "video 1/1 (frame 250/502) d:\\1_DSCE\\Major_project\\yolo\\vid1.mp4: 384x640 1 stand, 1 walk, 68.0ms\n",
      "video 1/1 (frame 251/502) d:\\1_DSCE\\Major_project\\yolo\\vid1.mp4: 384x640 1 stand, 1 walk, 64.0ms\n",
      "video 1/1 (frame 252/502) d:\\1_DSCE\\Major_project\\yolo\\vid1.mp4: 384x640 1 stand, 1 walk, 69.0ms\n",
      "video 1/1 (frame 253/502) d:\\1_DSCE\\Major_project\\yolo\\vid1.mp4: 384x640 1 stand, 2 walks, 68.0ms\n",
      "video 1/1 (frame 254/502) d:\\1_DSCE\\Major_project\\yolo\\vid1.mp4: 384x640 1 stand, 1 walk, 65.0ms\n",
      "video 1/1 (frame 255/502) d:\\1_DSCE\\Major_project\\yolo\\vid1.mp4: 384x640 1 stand, 1 walk, 73.0ms\n",
      "video 1/1 (frame 256/502) d:\\1_DSCE\\Major_project\\yolo\\vid1.mp4: 384x640 1 stand, 1 walk, 75.0ms\n",
      "video 1/1 (frame 257/502) d:\\1_DSCE\\Major_project\\yolo\\vid1.mp4: 384x640 1 stand, 78.0ms\n",
      "video 1/1 (frame 258/502) d:\\1_DSCE\\Major_project\\yolo\\vid1.mp4: 384x640 1 stand, 1 walk, 86.0ms\n",
      "video 1/1 (frame 259/502) d:\\1_DSCE\\Major_project\\yolo\\vid1.mp4: 384x640 1 stand, 1 walk, 74.0ms\n",
      "video 1/1 (frame 260/502) d:\\1_DSCE\\Major_project\\yolo\\vid1.mp4: 384x640 2 stands, 1 walk, 70.0ms\n",
      "video 1/1 (frame 261/502) d:\\1_DSCE\\Major_project\\yolo\\vid1.mp4: 384x640 2 stands, 2 walks, 69.0ms\n",
      "video 1/1 (frame 262/502) d:\\1_DSCE\\Major_project\\yolo\\vid1.mp4: 384x640 2 stands, 2 walks, 69.0ms\n",
      "video 1/1 (frame 263/502) d:\\1_DSCE\\Major_project\\yolo\\vid1.mp4: 384x640 2 stands, 2 walks, 75.0ms\n",
      "video 1/1 (frame 264/502) d:\\1_DSCE\\Major_project\\yolo\\vid1.mp4: 384x640 2 stands, 2 walks, 73.0ms\n",
      "video 1/1 (frame 265/502) d:\\1_DSCE\\Major_project\\yolo\\vid1.mp4: 384x640 2 stands, 2 walks, 72.0ms\n",
      "video 1/1 (frame 266/502) d:\\1_DSCE\\Major_project\\yolo\\vid1.mp4: 384x640 2 stands, 3 walks, 70.0ms\n",
      "video 1/1 (frame 267/502) d:\\1_DSCE\\Major_project\\yolo\\vid1.mp4: 384x640 2 stands, 3 walks, 117.0ms\n",
      "video 1/1 (frame 268/502) d:\\1_DSCE\\Major_project\\yolo\\vid1.mp4: 384x640 2 stands, 3 walks, 68.0ms\n",
      "video 1/1 (frame 269/502) d:\\1_DSCE\\Major_project\\yolo\\vid1.mp4: 384x640 2 stands, 3 walks, 66.0ms\n",
      "video 1/1 (frame 270/502) d:\\1_DSCE\\Major_project\\yolo\\vid1.mp4: 384x640 2 stands, 3 walks, 67.0ms\n",
      "video 1/1 (frame 271/502) d:\\1_DSCE\\Major_project\\yolo\\vid1.mp4: 384x640 2 stands, 3 walks, 66.0ms\n",
      "video 1/1 (frame 272/502) d:\\1_DSCE\\Major_project\\yolo\\vid1.mp4: 384x640 2 stands, 3 walks, 64.0ms\n",
      "video 1/1 (frame 273/502) d:\\1_DSCE\\Major_project\\yolo\\vid1.mp4: 384x640 2 stands, 3 walks, 66.0ms\n",
      "video 1/1 (frame 274/502) d:\\1_DSCE\\Major_project\\yolo\\vid1.mp4: 384x640 2 stands, 3 walks, 68.0ms\n",
      "video 1/1 (frame 275/502) d:\\1_DSCE\\Major_project\\yolo\\vid1.mp4: 384x640 1 stand, 3 walks, 69.0ms\n",
      "video 1/1 (frame 276/502) d:\\1_DSCE\\Major_project\\yolo\\vid1.mp4: 384x640 1 stand, 2 walks, 66.0ms\n",
      "video 1/1 (frame 277/502) d:\\1_DSCE\\Major_project\\yolo\\vid1.mp4: 384x640 2 stands, 3 walks, 67.0ms\n",
      "video 1/1 (frame 278/502) d:\\1_DSCE\\Major_project\\yolo\\vid1.mp4: 384x640 2 stands, 3 walks, 66.0ms\n",
      "video 1/1 (frame 279/502) d:\\1_DSCE\\Major_project\\yolo\\vid1.mp4: 384x640 2 stands, 3 walks, 66.0ms\n",
      "video 1/1 (frame 280/502) d:\\1_DSCE\\Major_project\\yolo\\vid1.mp4: 384x640 2 stands, 3 walks, 65.0ms\n",
      "video 1/1 (frame 281/502) d:\\1_DSCE\\Major_project\\yolo\\vid1.mp4: 384x640 2 stands, 3 walks, 65.0ms\n",
      "video 1/1 (frame 282/502) d:\\1_DSCE\\Major_project\\yolo\\vid1.mp4: 384x640 2 stands, 2 walks, 65.0ms\n",
      "video 1/1 (frame 283/502) d:\\1_DSCE\\Major_project\\yolo\\vid1.mp4: 384x640 1 stand, 2 walks, 65.0ms\n",
      "video 1/1 (frame 284/502) d:\\1_DSCE\\Major_project\\yolo\\vid1.mp4: 384x640 1 stand, 2 walks, 87.0ms\n",
      "video 1/1 (frame 285/502) d:\\1_DSCE\\Major_project\\yolo\\vid1.mp4: 384x640 1 stand, 2 walks, 100.0ms\n",
      "video 1/1 (frame 286/502) d:\\1_DSCE\\Major_project\\yolo\\vid1.mp4: 384x640 2 walks, 78.0ms\n",
      "video 1/1 (frame 287/502) d:\\1_DSCE\\Major_project\\yolo\\vid1.mp4: 384x640 1 stand, 2 walks, 71.0ms\n",
      "video 1/1 (frame 288/502) d:\\1_DSCE\\Major_project\\yolo\\vid1.mp4: 384x640 1 walk, 69.0ms\n",
      "video 1/1 (frame 289/502) d:\\1_DSCE\\Major_project\\yolo\\vid1.mp4: 384x640 1 walk, 67.0ms\n",
      "video 1/1 (frame 290/502) d:\\1_DSCE\\Major_project\\yolo\\vid1.mp4: 384x640 1 walk, 67.0ms\n",
      "video 1/1 (frame 291/502) d:\\1_DSCE\\Major_project\\yolo\\vid1.mp4: 384x640 1 walk, 66.0ms\n",
      "video 1/1 (frame 292/502) d:\\1_DSCE\\Major_project\\yolo\\vid1.mp4: 384x640 1 walk, 67.0ms\n",
      "video 1/1 (frame 293/502) d:\\1_DSCE\\Major_project\\yolo\\vid1.mp4: 384x640 1 walk, 71.0ms\n",
      "video 1/1 (frame 294/502) d:\\1_DSCE\\Major_project\\yolo\\vid1.mp4: 384x640 1 walk, 67.0ms\n",
      "video 1/1 (frame 295/502) d:\\1_DSCE\\Major_project\\yolo\\vid1.mp4: 384x640 1 walk, 80.1ms\n",
      "video 1/1 (frame 296/502) d:\\1_DSCE\\Major_project\\yolo\\vid1.mp4: 384x640 1 walk, 69.0ms\n",
      "video 1/1 (frame 297/502) d:\\1_DSCE\\Major_project\\yolo\\vid1.mp4: 384x640 1 walk, 83.0ms\n",
      "video 1/1 (frame 298/502) d:\\1_DSCE\\Major_project\\yolo\\vid1.mp4: 384x640 2 walks, 91.0ms\n",
      "video 1/1 (frame 299/502) d:\\1_DSCE\\Major_project\\yolo\\vid1.mp4: 384x640 2 walks, 69.0ms\n",
      "video 1/1 (frame 300/502) d:\\1_DSCE\\Major_project\\yolo\\vid1.mp4: 384x640 2 walks, 66.0ms\n",
      "video 1/1 (frame 301/502) d:\\1_DSCE\\Major_project\\yolo\\vid1.mp4: 384x640 2 walks, 67.0ms\n",
      "video 1/1 (frame 302/502) d:\\1_DSCE\\Major_project\\yolo\\vid1.mp4: 384x640 2 walks, 66.0ms\n",
      "video 1/1 (frame 303/502) d:\\1_DSCE\\Major_project\\yolo\\vid1.mp4: 384x640 2 walks, 66.0ms\n",
      "video 1/1 (frame 304/502) d:\\1_DSCE\\Major_project\\yolo\\vid1.mp4: 384x640 2 walks, 66.0ms\n",
      "video 1/1 (frame 305/502) d:\\1_DSCE\\Major_project\\yolo\\vid1.mp4: 384x640 2 walks, 64.0ms\n",
      "video 1/1 (frame 306/502) d:\\1_DSCE\\Major_project\\yolo\\vid1.mp4: 384x640 2 walks, 104.0ms\n",
      "video 1/1 (frame 307/502) d:\\1_DSCE\\Major_project\\yolo\\vid1.mp4: 384x640 2 walks, 78.0ms\n",
      "video 1/1 (frame 308/502) d:\\1_DSCE\\Major_project\\yolo\\vid1.mp4: 384x640 2 walks, 70.0ms\n",
      "video 1/1 (frame 309/502) d:\\1_DSCE\\Major_project\\yolo\\vid1.mp4: 384x640 2 walks, 71.0ms\n",
      "video 1/1 (frame 310/502) d:\\1_DSCE\\Major_project\\yolo\\vid1.mp4: 384x640 2 walks, 72.0ms\n",
      "video 1/1 (frame 311/502) d:\\1_DSCE\\Major_project\\yolo\\vid1.mp4: 384x640 2 walks, 68.0ms\n",
      "video 1/1 (frame 312/502) d:\\1_DSCE\\Major_project\\yolo\\vid1.mp4: 384x640 2 walks, 67.0ms\n",
      "video 1/1 (frame 313/502) d:\\1_DSCE\\Major_project\\yolo\\vid1.mp4: 384x640 2 walks, 69.0ms\n",
      "video 1/1 (frame 314/502) d:\\1_DSCE\\Major_project\\yolo\\vid1.mp4: 384x640 2 walks, 65.0ms\n",
      "video 1/1 (frame 315/502) d:\\1_DSCE\\Major_project\\yolo\\vid1.mp4: 384x640 1 walk, 65.0ms\n",
      "video 1/1 (frame 316/502) d:\\1_DSCE\\Major_project\\yolo\\vid1.mp4: 384x640 1 walk, 67.0ms\n",
      "video 1/1 (frame 317/502) d:\\1_DSCE\\Major_project\\yolo\\vid1.mp4: 384x640 2 walks, 91.0ms\n",
      "video 1/1 (frame 318/502) d:\\1_DSCE\\Major_project\\yolo\\vid1.mp4: 384x640 1 walk, 95.0ms\n",
      "video 1/1 (frame 319/502) d:\\1_DSCE\\Major_project\\yolo\\vid1.mp4: 384x640 1 walk, 71.6ms\n",
      "video 1/1 (frame 320/502) d:\\1_DSCE\\Major_project\\yolo\\vid1.mp4: 384x640 1 walk, 67.0ms\n",
      "video 1/1 (frame 321/502) d:\\1_DSCE\\Major_project\\yolo\\vid1.mp4: 384x640 1 walk, 69.0ms\n",
      "video 1/1 (frame 322/502) d:\\1_DSCE\\Major_project\\yolo\\vid1.mp4: 384x640 1 walk, 79.0ms\n",
      "video 1/1 (frame 323/502) d:\\1_DSCE\\Major_project\\yolo\\vid1.mp4: 384x640 2 walks, 64.0ms\n",
      "video 1/1 (frame 324/502) d:\\1_DSCE\\Major_project\\yolo\\vid1.mp4: 384x640 2 walks, 65.0ms\n",
      "video 1/1 (frame 325/502) d:\\1_DSCE\\Major_project\\yolo\\vid1.mp4: 384x640 2 walks, 64.0ms\n",
      "video 1/1 (frame 326/502) d:\\1_DSCE\\Major_project\\yolo\\vid1.mp4: 384x640 2 walks, 72.6ms\n",
      "video 1/1 (frame 327/502) d:\\1_DSCE\\Major_project\\yolo\\vid1.mp4: 384x640 2 walks, 66.0ms\n",
      "video 1/1 (frame 328/502) d:\\1_DSCE\\Major_project\\yolo\\vid1.mp4: 384x640 1 walk, 67.9ms\n",
      "video 1/1 (frame 329/502) d:\\1_DSCE\\Major_project\\yolo\\vid1.mp4: 384x640 2 walks, 85.0ms\n",
      "video 1/1 (frame 330/502) d:\\1_DSCE\\Major_project\\yolo\\vid1.mp4: 384x640 2 walks, 94.0ms\n",
      "video 1/1 (frame 331/502) d:\\1_DSCE\\Major_project\\yolo\\vid1.mp4: 384x640 1 walk, 66.0ms\n",
      "video 1/1 (frame 332/502) d:\\1_DSCE\\Major_project\\yolo\\vid1.mp4: 384x640 1 walk, 67.0ms\n",
      "video 1/1 (frame 333/502) d:\\1_DSCE\\Major_project\\yolo\\vid1.mp4: 384x640 1 walk, 67.0ms\n",
      "video 1/1 (frame 334/502) d:\\1_DSCE\\Major_project\\yolo\\vid1.mp4: 384x640 1 walk, 66.0ms\n",
      "video 1/1 (frame 335/502) d:\\1_DSCE\\Major_project\\yolo\\vid1.mp4: 384x640 1 walk, 66.0ms\n",
      "video 1/1 (frame 336/502) d:\\1_DSCE\\Major_project\\yolo\\vid1.mp4: 384x640 1 walk, 65.0ms\n",
      "video 1/1 (frame 337/502) d:\\1_DSCE\\Major_project\\yolo\\vid1.mp4: 384x640 1 walk, 66.0ms\n",
      "video 1/1 (frame 338/502) d:\\1_DSCE\\Major_project\\yolo\\vid1.mp4: 384x640 1 walk, 65.0ms\n",
      "video 1/1 (frame 339/502) d:\\1_DSCE\\Major_project\\yolo\\vid1.mp4: 384x640 1 walk, 65.0ms\n",
      "video 1/1 (frame 340/502) d:\\1_DSCE\\Major_project\\yolo\\vid1.mp4: 384x640 1 walk, 65.0ms\n",
      "video 1/1 (frame 341/502) d:\\1_DSCE\\Major_project\\yolo\\vid1.mp4: 384x640 1 walk, 65.0ms\n",
      "video 1/1 (frame 342/502) d:\\1_DSCE\\Major_project\\yolo\\vid1.mp4: 384x640 1 walk, 67.0ms\n",
      "video 1/1 (frame 343/502) d:\\1_DSCE\\Major_project\\yolo\\vid1.mp4: 384x640 1 walk, 69.0ms\n",
      "video 1/1 (frame 344/502) d:\\1_DSCE\\Major_project\\yolo\\vid1.mp4: 384x640 1 walk, 69.0ms\n",
      "video 1/1 (frame 345/502) d:\\1_DSCE\\Major_project\\yolo\\vid1.mp4: 384x640 1 stand, 1 walk, 69.0ms\n",
      "video 1/1 (frame 346/502) d:\\1_DSCE\\Major_project\\yolo\\vid1.mp4: 384x640 1 stand, 1 walk, 66.0ms\n",
      "video 1/1 (frame 347/502) d:\\1_DSCE\\Major_project\\yolo\\vid1.mp4: 384x640 1 walk, 67.0ms\n",
      "video 1/1 (frame 348/502) d:\\1_DSCE\\Major_project\\yolo\\vid1.mp4: 384x640 1 stand, 1 walk, 65.0ms\n",
      "video 1/1 (frame 349/502) d:\\1_DSCE\\Major_project\\yolo\\vid1.mp4: 384x640 1 stand, 1 walk, 66.0ms\n",
      "video 1/1 (frame 350/502) d:\\1_DSCE\\Major_project\\yolo\\vid1.mp4: 384x640 1 walk, 66.0ms\n",
      "video 1/1 (frame 351/502) d:\\1_DSCE\\Major_project\\yolo\\vid1.mp4: 384x640 1 stand, 1 walk, 66.0ms\n",
      "video 1/1 (frame 352/502) d:\\1_DSCE\\Major_project\\yolo\\vid1.mp4: 384x640 1 walk, 67.0ms\n",
      "video 1/1 (frame 353/502) d:\\1_DSCE\\Major_project\\yolo\\vid1.mp4: 384x640 1 walk, 67.0ms\n",
      "video 1/1 (frame 354/502) d:\\1_DSCE\\Major_project\\yolo\\vid1.mp4: 384x640 1 walk, 66.0ms\n",
      "video 1/1 (frame 355/502) d:\\1_DSCE\\Major_project\\yolo\\vid1.mp4: 384x640 1 walk, 67.0ms\n",
      "video 1/1 (frame 356/502) d:\\1_DSCE\\Major_project\\yolo\\vid1.mp4: 384x640 1 walk, 67.0ms\n",
      "video 1/1 (frame 357/502) d:\\1_DSCE\\Major_project\\yolo\\vid1.mp4: 384x640 1 walk, 67.0ms\n",
      "video 1/1 (frame 358/502) d:\\1_DSCE\\Major_project\\yolo\\vid1.mp4: 384x640 1 stand, 1 walk, 65.0ms\n",
      "video 1/1 (frame 359/502) d:\\1_DSCE\\Major_project\\yolo\\vid1.mp4: 384x640 1 stand, 1 walk, 65.0ms\n",
      "video 1/1 (frame 360/502) d:\\1_DSCE\\Major_project\\yolo\\vid1.mp4: 384x640 1 stand, 1 walk, 68.0ms\n",
      "video 1/1 (frame 361/502) d:\\1_DSCE\\Major_project\\yolo\\vid1.mp4: 384x640 1 stand, 1 walk, 64.0ms\n",
      "video 1/1 (frame 362/502) d:\\1_DSCE\\Major_project\\yolo\\vid1.mp4: 384x640 1 stand, 1 walk, 67.0ms\n",
      "video 1/1 (frame 363/502) d:\\1_DSCE\\Major_project\\yolo\\vid1.mp4: 384x640 1 stand, 1 walk, 67.0ms\n",
      "video 1/1 (frame 364/502) d:\\1_DSCE\\Major_project\\yolo\\vid1.mp4: 384x640 1 stand, 82.0ms\n",
      "video 1/1 (frame 365/502) d:\\1_DSCE\\Major_project\\yolo\\vid1.mp4: 384x640 1 stand, 97.0ms\n",
      "video 1/1 (frame 366/502) d:\\1_DSCE\\Major_project\\yolo\\vid1.mp4: 384x640 1 stand, 85.0ms\n",
      "video 1/1 (frame 367/502) d:\\1_DSCE\\Major_project\\yolo\\vid1.mp4: 384x640 1 stand, 65.0ms\n",
      "video 1/1 (frame 368/502) d:\\1_DSCE\\Major_project\\yolo\\vid1.mp4: 384x640 1 stand, 73.0ms\n",
      "video 1/1 (frame 369/502) d:\\1_DSCE\\Major_project\\yolo\\vid1.mp4: 384x640 1 stand, 64.0ms\n",
      "video 1/1 (frame 370/502) d:\\1_DSCE\\Major_project\\yolo\\vid1.mp4: 384x640 1 stand, 64.0ms\n",
      "video 1/1 (frame 371/502) d:\\1_DSCE\\Major_project\\yolo\\vid1.mp4: 384x640 1 stand, 65.0ms\n",
      "video 1/1 (frame 372/502) d:\\1_DSCE\\Major_project\\yolo\\vid1.mp4: 384x640 1 stand, 1 walk, 65.0ms\n",
      "video 1/1 (frame 373/502) d:\\1_DSCE\\Major_project\\yolo\\vid1.mp4: 384x640 1 stand, 1 walk, 66.0ms\n",
      "video 1/1 (frame 374/502) d:\\1_DSCE\\Major_project\\yolo\\vid1.mp4: 384x640 1 stand, 64.0ms\n",
      "video 1/1 (frame 375/502) d:\\1_DSCE\\Major_project\\yolo\\vid1.mp4: 384x640 1 stand, 67.0ms\n",
      "video 1/1 (frame 376/502) d:\\1_DSCE\\Major_project\\yolo\\vid1.mp4: 384x640 1 stand, 65.0ms\n",
      "video 1/1 (frame 377/502) d:\\1_DSCE\\Major_project\\yolo\\vid1.mp4: 384x640 1 stand, 65.0ms\n",
      "video 1/1 (frame 378/502) d:\\1_DSCE\\Major_project\\yolo\\vid1.mp4: 384x640 1 stand, 64.0ms\n",
      "video 1/1 (frame 379/502) d:\\1_DSCE\\Major_project\\yolo\\vid1.mp4: 384x640 1 stand, 66.0ms\n",
      "video 1/1 (frame 380/502) d:\\1_DSCE\\Major_project\\yolo\\vid1.mp4: 384x640 1 stand, 64.0ms\n",
      "video 1/1 (frame 381/502) d:\\1_DSCE\\Major_project\\yolo\\vid1.mp4: 384x640 1 stand, 69.0ms\n",
      "video 1/1 (frame 382/502) d:\\1_DSCE\\Major_project\\yolo\\vid1.mp4: 384x640 1 stand, 69.0ms\n",
      "video 1/1 (frame 383/502) d:\\1_DSCE\\Major_project\\yolo\\vid1.mp4: 384x640 1 stand, 70.0ms\n",
      "video 1/1 (frame 384/502) d:\\1_DSCE\\Major_project\\yolo\\vid1.mp4: 384x640 1 stand, 69.0ms\n",
      "video 1/1 (frame 385/502) d:\\1_DSCE\\Major_project\\yolo\\vid1.mp4: 384x640 1 stand, 69.0ms\n",
      "video 1/1 (frame 386/502) d:\\1_DSCE\\Major_project\\yolo\\vid1.mp4: 384x640 1 stand, 1 walk, 70.0ms\n",
      "video 1/1 (frame 387/502) d:\\1_DSCE\\Major_project\\yolo\\vid1.mp4: 384x640 1 stand, 1 walk, 92.0ms\n",
      "video 1/1 (frame 388/502) d:\\1_DSCE\\Major_project\\yolo\\vid1.mp4: 384x640 1 stand, 1 walk, 91.0ms\n",
      "video 1/1 (frame 389/502) d:\\1_DSCE\\Major_project\\yolo\\vid1.mp4: 384x640 1 stand, 1 walk, 97.0ms\n",
      "video 1/1 (frame 390/502) d:\\1_DSCE\\Major_project\\yolo\\vid1.mp4: 384x640 1 stand, 1 walk, 96.0ms\n",
      "video 1/1 (frame 391/502) d:\\1_DSCE\\Major_project\\yolo\\vid1.mp4: 384x640 1 stand, 1 walk, 95.0ms\n",
      "video 1/1 (frame 392/502) d:\\1_DSCE\\Major_project\\yolo\\vid1.mp4: 384x640 1 stand, 1 walk, 93.0ms\n",
      "video 1/1 (frame 393/502) d:\\1_DSCE\\Major_project\\yolo\\vid1.mp4: 384x640 1 walk, 98.0ms\n",
      "video 1/1 (frame 394/502) d:\\1_DSCE\\Major_project\\yolo\\vid1.mp4: 384x640 1 stand, 1 walk, 94.0ms\n",
      "video 1/1 (frame 395/502) d:\\1_DSCE\\Major_project\\yolo\\vid1.mp4: 384x640 1 stand, 1 walk, 92.9ms\n",
      "video 1/1 (frame 396/502) d:\\1_DSCE\\Major_project\\yolo\\vid1.mp4: 384x640 1 stand, 1 walk, 99.2ms\n",
      "video 1/1 (frame 397/502) d:\\1_DSCE\\Major_project\\yolo\\vid1.mp4: 384x640 1 stand, 1 walk, 95.0ms\n",
      "video 1/1 (frame 398/502) d:\\1_DSCE\\Major_project\\yolo\\vid1.mp4: 384x640 1 stand, 1 walk, 92.5ms\n",
      "video 1/1 (frame 399/502) d:\\1_DSCE\\Major_project\\yolo\\vid1.mp4: 384x640 1 stand, 1 walk, 91.0ms\n",
      "video 1/1 (frame 400/502) d:\\1_DSCE\\Major_project\\yolo\\vid1.mp4: 384x640 1 stand, 94.0ms\n",
      "video 1/1 (frame 401/502) d:\\1_DSCE\\Major_project\\yolo\\vid1.mp4: 384x640 1 stand, 87.0ms\n",
      "video 1/1 (frame 402/502) d:\\1_DSCE\\Major_project\\yolo\\vid1.mp4: 384x640 1 stand, 67.0ms\n",
      "video 1/1 (frame 403/502) d:\\1_DSCE\\Major_project\\yolo\\vid1.mp4: 384x640 (no detections), 68.0ms\n",
      "video 1/1 (frame 404/502) d:\\1_DSCE\\Major_project\\yolo\\vid1.mp4: 384x640 1 stand, 67.9ms\n",
      "video 1/1 (frame 405/502) d:\\1_DSCE\\Major_project\\yolo\\vid1.mp4: 384x640 (no detections), 74.0ms\n",
      "video 1/1 (frame 406/502) d:\\1_DSCE\\Major_project\\yolo\\vid1.mp4: 384x640 (no detections), 74.9ms\n",
      "video 1/1 (frame 407/502) d:\\1_DSCE\\Major_project\\yolo\\vid1.mp4: 384x640 (no detections), 64.0ms\n",
      "video 1/1 (frame 408/502) d:\\1_DSCE\\Major_project\\yolo\\vid1.mp4: 384x640 1 walk, 72.0ms\n",
      "video 1/1 (frame 409/502) d:\\1_DSCE\\Major_project\\yolo\\vid1.mp4: 384x640 (no detections), 65.0ms\n",
      "video 1/1 (frame 410/502) d:\\1_DSCE\\Major_project\\yolo\\vid1.mp4: 384x640 (no detections), 64.0ms\n",
      "video 1/1 (frame 411/502) d:\\1_DSCE\\Major_project\\yolo\\vid1.mp4: 384x640 (no detections), 65.0ms\n",
      "video 1/1 (frame 412/502) d:\\1_DSCE\\Major_project\\yolo\\vid1.mp4: 384x640 (no detections), 65.0ms\n",
      "video 1/1 (frame 413/502) d:\\1_DSCE\\Major_project\\yolo\\vid1.mp4: 384x640 (no detections), 64.0ms\n",
      "video 1/1 (frame 414/502) d:\\1_DSCE\\Major_project\\yolo\\vid1.mp4: 384x640 (no detections), 64.0ms\n",
      "video 1/1 (frame 415/502) d:\\1_DSCE\\Major_project\\yolo\\vid1.mp4: 384x640 (no detections), 65.0ms\n",
      "video 1/1 (frame 416/502) d:\\1_DSCE\\Major_project\\yolo\\vid1.mp4: 384x640 (no detections), 64.0ms\n",
      "video 1/1 (frame 417/502) d:\\1_DSCE\\Major_project\\yolo\\vid1.mp4: 384x640 (no detections), 65.0ms\n",
      "video 1/1 (frame 418/502) d:\\1_DSCE\\Major_project\\yolo\\vid1.mp4: 384x640 (no detections), 64.0ms\n",
      "video 1/1 (frame 419/502) d:\\1_DSCE\\Major_project\\yolo\\vid1.mp4: 384x640 (no detections), 65.0ms\n",
      "video 1/1 (frame 420/502) d:\\1_DSCE\\Major_project\\yolo\\vid1.mp4: 384x640 (no detections), 102.1ms\n",
      "video 1/1 (frame 421/502) d:\\1_DSCE\\Major_project\\yolo\\vid1.mp4: 384x640 (no detections), 65.0ms\n",
      "video 1/1 (frame 422/502) d:\\1_DSCE\\Major_project\\yolo\\vid1.mp4: 384x640 (no detections), 63.0ms\n",
      "video 1/1 (frame 423/502) d:\\1_DSCE\\Major_project\\yolo\\vid1.mp4: 384x640 (no detections), 63.0ms\n",
      "video 1/1 (frame 424/502) d:\\1_DSCE\\Major_project\\yolo\\vid1.mp4: 384x640 (no detections), 66.0ms\n",
      "video 1/1 (frame 425/502) d:\\1_DSCE\\Major_project\\yolo\\vid1.mp4: 384x640 (no detections), 66.0ms\n",
      "video 1/1 (frame 426/502) d:\\1_DSCE\\Major_project\\yolo\\vid1.mp4: 384x640 (no detections), 67.0ms\n",
      "video 1/1 (frame 427/502) d:\\1_DSCE\\Major_project\\yolo\\vid1.mp4: 384x640 (no detections), 64.0ms\n",
      "video 1/1 (frame 428/502) d:\\1_DSCE\\Major_project\\yolo\\vid1.mp4: 384x640 (no detections), 66.0ms\n",
      "video 1/1 (frame 429/502) d:\\1_DSCE\\Major_project\\yolo\\vid1.mp4: 384x640 (no detections), 65.0ms\n",
      "video 1/1 (frame 430/502) d:\\1_DSCE\\Major_project\\yolo\\vid1.mp4: 384x640 (no detections), 66.0ms\n",
      "video 1/1 (frame 431/502) d:\\1_DSCE\\Major_project\\yolo\\vid1.mp4: 384x640 (no detections), 66.0ms\n",
      "video 1/1 (frame 432/502) d:\\1_DSCE\\Major_project\\yolo\\vid1.mp4: 384x640 (no detections), 65.0ms\n",
      "video 1/1 (frame 433/502) d:\\1_DSCE\\Major_project\\yolo\\vid1.mp4: 384x640 (no detections), 65.0ms\n",
      "video 1/1 (frame 434/502) d:\\1_DSCE\\Major_project\\yolo\\vid1.mp4: 384x640 (no detections), 69.0ms\n",
      "video 1/1 (frame 435/502) d:\\1_DSCE\\Major_project\\yolo\\vid1.mp4: 384x640 (no detections), 69.0ms\n",
      "video 1/1 (frame 436/502) d:\\1_DSCE\\Major_project\\yolo\\vid1.mp4: 384x640 (no detections), 68.0ms\n",
      "video 1/1 (frame 437/502) d:\\1_DSCE\\Major_project\\yolo\\vid1.mp4: 384x640 (no detections), 70.0ms\n",
      "video 1/1 (frame 438/502) d:\\1_DSCE\\Major_project\\yolo\\vid1.mp4: 384x640 (no detections), 67.0ms\n",
      "video 1/1 (frame 439/502) d:\\1_DSCE\\Major_project\\yolo\\vid1.mp4: 384x640 (no detections), 73.0ms\n",
      "video 1/1 (frame 440/502) d:\\1_DSCE\\Major_project\\yolo\\vid1.mp4: 384x640 (no detections), 69.8ms\n",
      "video 1/1 (frame 441/502) d:\\1_DSCE\\Major_project\\yolo\\vid1.mp4: 384x640 (no detections), 69.0ms\n",
      "video 1/1 (frame 442/502) d:\\1_DSCE\\Major_project\\yolo\\vid1.mp4: 384x640 1 walk, 71.0ms\n",
      "video 1/1 (frame 443/502) d:\\1_DSCE\\Major_project\\yolo\\vid1.mp4: 384x640 1 walk, 72.0ms\n",
      "video 1/1 (frame 444/502) d:\\1_DSCE\\Major_project\\yolo\\vid1.mp4: 384x640 1 walk, 69.0ms\n",
      "video 1/1 (frame 445/502) d:\\1_DSCE\\Major_project\\yolo\\vid1.mp4: 384x640 1 walk, 70.0ms\n",
      "video 1/1 (frame 446/502) d:\\1_DSCE\\Major_project\\yolo\\vid1.mp4: 384x640 1 walk, 69.0ms\n",
      "video 1/1 (frame 447/502) d:\\1_DSCE\\Major_project\\yolo\\vid1.mp4: 384x640 1 stand, 1 walk, 70.0ms\n",
      "video 1/1 (frame 448/502) d:\\1_DSCE\\Major_project\\yolo\\vid1.mp4: 384x640 1 stand, 1 walk, 69.0ms\n",
      "video 1/1 (frame 449/502) d:\\1_DSCE\\Major_project\\yolo\\vid1.mp4: 384x640 1 walk, 79.0ms\n",
      "video 1/1 (frame 450/502) d:\\1_DSCE\\Major_project\\yolo\\vid1.mp4: 384x640 (no detections), 69.0ms\n",
      "video 1/1 (frame 451/502) d:\\1_DSCE\\Major_project\\yolo\\vid1.mp4: 384x640 (no detections), 73.0ms\n",
      "video 1/1 (frame 452/502) d:\\1_DSCE\\Major_project\\yolo\\vid1.mp4: 384x640 1 walk, 69.0ms\n",
      "video 1/1 (frame 453/502) d:\\1_DSCE\\Major_project\\yolo\\vid1.mp4: 384x640 1 walk, 70.0ms\n",
      "video 1/1 (frame 454/502) d:\\1_DSCE\\Major_project\\yolo\\vid1.mp4: 384x640 1 walk, 69.9ms\n",
      "video 1/1 (frame 455/502) d:\\1_DSCE\\Major_project\\yolo\\vid1.mp4: 384x640 (no detections), 64.0ms\n",
      "video 1/1 (frame 456/502) d:\\1_DSCE\\Major_project\\yolo\\vid1.mp4: 384x640 (no detections), 63.0ms\n",
      "video 1/1 (frame 457/502) d:\\1_DSCE\\Major_project\\yolo\\vid1.mp4: 384x640 (no detections), 67.0ms\n",
      "video 1/1 (frame 458/502) d:\\1_DSCE\\Major_project\\yolo\\vid1.mp4: 384x640 (no detections), 66.0ms\n",
      "video 1/1 (frame 459/502) d:\\1_DSCE\\Major_project\\yolo\\vid1.mp4: 384x640 (no detections), 64.0ms\n",
      "video 1/1 (frame 460/502) d:\\1_DSCE\\Major_project\\yolo\\vid1.mp4: 384x640 (no detections), 68.0ms\n",
      "video 1/1 (frame 461/502) d:\\1_DSCE\\Major_project\\yolo\\vid1.mp4: 384x640 (no detections), 65.0ms\n",
      "video 1/1 (frame 462/502) d:\\1_DSCE\\Major_project\\yolo\\vid1.mp4: 384x640 (no detections), 66.0ms\n",
      "video 1/1 (frame 463/502) d:\\1_DSCE\\Major_project\\yolo\\vid1.mp4: 384x640 1 walk, 69.0ms\n",
      "video 1/1 (frame 464/502) d:\\1_DSCE\\Major_project\\yolo\\vid1.mp4: 384x640 1 walk, 66.0ms\n",
      "video 1/1 (frame 465/502) d:\\1_DSCE\\Major_project\\yolo\\vid1.mp4: 384x640 1 walk, 63.0ms\n",
      "video 1/1 (frame 466/502) d:\\1_DSCE\\Major_project\\yolo\\vid1.mp4: 384x640 1 walk, 66.0ms\n",
      "video 1/1 (frame 467/502) d:\\1_DSCE\\Major_project\\yolo\\vid1.mp4: 384x640 1 walk, 66.0ms\n",
      "video 1/1 (frame 468/502) d:\\1_DSCE\\Major_project\\yolo\\vid1.mp4: 384x640 1 walk, 68.0ms\n",
      "video 1/1 (frame 469/502) d:\\1_DSCE\\Major_project\\yolo\\vid1.mp4: 384x640 1 walk, 69.0ms\n",
      "video 1/1 (frame 470/502) d:\\1_DSCE\\Major_project\\yolo\\vid1.mp4: 384x640 1 walk, 69.0ms\n",
      "video 1/1 (frame 471/502) d:\\1_DSCE\\Major_project\\yolo\\vid1.mp4: 384x640 1 walk, 66.9ms\n",
      "video 1/1 (frame 472/502) d:\\1_DSCE\\Major_project\\yolo\\vid1.mp4: 384x640 1 walk, 64.0ms\n",
      "video 1/1 (frame 473/502) d:\\1_DSCE\\Major_project\\yolo\\vid1.mp4: 384x640 1 walk, 66.0ms\n",
      "video 1/1 (frame 474/502) d:\\1_DSCE\\Major_project\\yolo\\vid1.mp4: 384x640 1 walk, 65.0ms\n",
      "video 1/1 (frame 475/502) d:\\1_DSCE\\Major_project\\yolo\\vid1.mp4: 384x640 1 walk, 64.0ms\n",
      "video 1/1 (frame 476/502) d:\\1_DSCE\\Major_project\\yolo\\vid1.mp4: 384x640 1 walk, 65.0ms\n",
      "video 1/1 (frame 477/502) d:\\1_DSCE\\Major_project\\yolo\\vid1.mp4: 384x640 1 walk, 67.0ms\n",
      "video 1/1 (frame 478/502) d:\\1_DSCE\\Major_project\\yolo\\vid1.mp4: 384x640 1 stand, 1 walk, 65.0ms\n",
      "video 1/1 (frame 479/502) d:\\1_DSCE\\Major_project\\yolo\\vid1.mp4: 384x640 1 stand, 1 walk, 66.0ms\n",
      "video 1/1 (frame 480/502) d:\\1_DSCE\\Major_project\\yolo\\vid1.mp4: 384x640 1 stand, 1 walk, 66.0ms\n",
      "video 1/1 (frame 481/502) d:\\1_DSCE\\Major_project\\yolo\\vid1.mp4: 384x640 1 stand, 1 walk, 65.0ms\n",
      "video 1/1 (frame 482/502) d:\\1_DSCE\\Major_project\\yolo\\vid1.mp4: 384x640 1 stand, 63.0ms\n",
      "video 1/1 (frame 483/502) d:\\1_DSCE\\Major_project\\yolo\\vid1.mp4: 384x640 1 stand, 64.0ms\n",
      "video 1/1 (frame 484/502) d:\\1_DSCE\\Major_project\\yolo\\vid1.mp4: 384x640 1 stand, 75.4ms\n",
      "video 1/1 (frame 485/502) d:\\1_DSCE\\Major_project\\yolo\\vid1.mp4: 384x640 1 stand, 70.0ms\n",
      "video 1/1 (frame 486/502) d:\\1_DSCE\\Major_project\\yolo\\vid1.mp4: 384x640 1 stand, 67.0ms\n",
      "video 1/1 (frame 487/502) d:\\1_DSCE\\Major_project\\yolo\\vid1.mp4: 384x640 1 stand, 1 walk, 77.0ms\n",
      "video 1/1 (frame 488/502) d:\\1_DSCE\\Major_project\\yolo\\vid1.mp4: 384x640 1 stand, 1 walk, 66.0ms\n",
      "video 1/1 (frame 489/502) d:\\1_DSCE\\Major_project\\yolo\\vid1.mp4: 384x640 1 stand, 1 walk, 68.0ms\n",
      "video 1/1 (frame 490/502) d:\\1_DSCE\\Major_project\\yolo\\vid1.mp4: 384x640 1 stand, 2 walks, 69.0ms\n",
      "video 1/1 (frame 491/502) d:\\1_DSCE\\Major_project\\yolo\\vid1.mp4: 384x640 1 stand, 1 walk, 69.0ms\n",
      "video 1/1 (frame 492/502) d:\\1_DSCE\\Major_project\\yolo\\vid1.mp4: 384x640 2 walks, 69.0ms\n",
      "video 1/1 (frame 493/502) d:\\1_DSCE\\Major_project\\yolo\\vid1.mp4: 384x640 1 walk, 68.0ms\n",
      "video 1/1 (frame 494/502) d:\\1_DSCE\\Major_project\\yolo\\vid1.mp4: 384x640 1 walk, 69.0ms\n",
      "video 1/1 (frame 495/502) d:\\1_DSCE\\Major_project\\yolo\\vid1.mp4: 384x640 1 stand, 1 walk, 68.0ms\n",
      "video 1/1 (frame 496/502) d:\\1_DSCE\\Major_project\\yolo\\vid1.mp4: 384x640 1 stand, 2 walks, 69.9ms\n",
      "video 1/1 (frame 497/502) d:\\1_DSCE\\Major_project\\yolo\\vid1.mp4: 384x640 1 walk, 68.0ms\n",
      "video 1/1 (frame 498/502) d:\\1_DSCE\\Major_project\\yolo\\vid1.mp4: 384x640 1 walk, 70.2ms\n",
      "video 1/1 (frame 499/502) d:\\1_DSCE\\Major_project\\yolo\\vid1.mp4: 384x640 1 stand, 1 walk, 77.0ms\n",
      "video 1/1 (frame 500/502) d:\\1_DSCE\\Major_project\\yolo\\vid1.mp4: 384x640 2 walks, 74.0ms\n",
      "video 1/1 (frame 501/502) d:\\1_DSCE\\Major_project\\yolo\\vid1.mp4: 384x640 1 stand, 2 walks, 75.7ms\n",
      "video 1/1 (frame 502/502) d:\\1_DSCE\\Major_project\\yolo\\vid1.mp4: 384x640 1 stand, 2 walks, 74.0ms\n",
      "Speed: 2.7ms preprocess, 72.7ms inference, 0.8ms postprocess per image at shape (1, 3, 384, 640)\n"
     ]
    }
   ],
   "source": [
    "from autodistill_yolov8 import YOLOv8\n",
    "\n",
    "# Load the trained model\n",
    "model3 = YOLOv8(TRAINED_MODEL_PATH)\n",
    "# Run prediction on the input video and save the output\n",
    "results3 = model3.predict(INPUT_VIDEO_PATH)"
   ]
  }
 ],
 "metadata": {
  "kernelspec": {
   "display_name": "venv",
   "language": "python",
   "name": "python3"
  },
  "language_info": {
   "codemirror_mode": {
    "name": "ipython",
    "version": 3
   },
   "file_extension": ".py",
   "mimetype": "text/x-python",
   "name": "python",
   "nbconvert_exporter": "python",
   "pygments_lexer": "ipython3",
   "version": "3.11.5"
  }
 },
 "nbformat": 4,
 "nbformat_minor": 2
}
